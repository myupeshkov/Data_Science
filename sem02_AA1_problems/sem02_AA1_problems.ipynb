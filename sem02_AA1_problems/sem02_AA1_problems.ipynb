{
 "cells": [
  {
   "cell_type": "markdown",
   "metadata": {},
   "source": [
    "## \"И помни, что коронный твой  - прямой\"\n",
    "*Высоцкий В.В., \"Честь Шахматной Короны\"*\n",
    "\n",
    "<br>\n",
    "\n",
    "Никаких дополнительных билбиотек, чистый питон, учимся программировать простые задачи.\n",
    "\n",
    "Сегодня разрешены brute force решения."
   ]
  },
  {
   "cell_type": "code",
   "execution_count": null,
   "metadata": {},
   "outputs": [],
   "source": [
    "import sem2_tests"
   ]
  },
  {
   "cell_type": "markdown",
   "metadata": {},
   "source": [
    "### Problem 0. PEP8 (This is more important than you might think)\n",
    "\n",
    "https://www.kbsoftware.co.uk/docs/_downloads/a9d605adc5dbf1d1338643d6a756e6c7/pep8_cheat.pdf"
   ]
  },
  {
   "cell_type": "markdown",
   "metadata": {},
   "source": [
    "### Problem 1. Fizz Buzz \n",
    "Write a program that outputs the string representation of numbers from 1 to n.\n",
    "\n",
    "But for multiples of three it should output “Fizz” instead of the number and for the multiples of five output “Buzz”. For numbers which are multiples of both three and five output “FizzBuzz”.\n"
   ]
  },
  {
   "cell_type": "code",
   "execution_count": null,
   "metadata": {},
   "outputs": [],
   "source": [
    "def fizz_buzz(n):\n",
    "    # YOUR CODE HERE\n",
    "    return\n",
    "\n",
    "sem2_tests.test_fizz_buzz(fizz_buzz)"
   ]
  },
  {
   "cell_type": "markdown",
   "metadata": {},
   "source": [
    "### Problem 2. Fibonacci \n",
    "\n",
    "Write a program that asks the user how many Fibonnaci numbers to generate and then generates them. Take this opportunity to think about how you can use functions. Make sure to ask the user to enter the number of numbers in the sequence to generate.(Hint: The Fibonnaci seqence is a sequence of numbers where the next number in the sequence is the sum of the previous two numbers in the sequence. The sequence looks like this: 1, 1, 2, 3, 5, 8, 13, …)"
   ]
  },
  {
   "cell_type": "code",
   "execution_count": null,
   "metadata": {},
   "outputs": [],
   "source": [
    "def fibonacci(n):\n",
    "    # YOUR CODE HERE\n",
    "    return\n",
    "\n",
    "sem2_tests.test_fibonacci(fibonacci)"
   ]
  },
  {
   "cell_type": "markdown",
   "metadata": {},
   "source": [
    "### Problem 3. Find All Duplicates in an Array\n",
    "\n",
    "Given an array of integers, 1 ≤ a[i] ≤ n (n = size of array), some elements appear twice and others appear once.\n",
    "\n",
    "Find all the elements that appear twice in this array.\n",
    "\n",
    "Дополнительное условние: выводить елементы нужно в том же порядке, в котором они первый раз встретились в листе"
   ]
  },
  {
   "cell_type": "code",
   "execution_count": null,
   "metadata": {},
   "outputs": [],
   "source": [
    "def find_duplicates(arr):\n",
    "    # YOUR CODE HERE\n",
    "    return\n",
    "\n",
    "sem2_tests.test_find_duplicates(find_duplicates)"
   ]
  },
  {
   "cell_type": "markdown",
   "metadata": {},
   "source": [
    "### Problem 4. Word Frequency\n",
    "\n",
    "Write a script to calculate the frequency of each word.\n",
    "\n",
    "Your script should output sorted by descending frequency:\n",
    "\n",
    "Дополнительное условние: на вход поступает строка, на выход нужно получить лист из кортежей (слово, частота)  "
   ]
  },
  {
   "cell_type": "code",
   "execution_count": null,
   "metadata": {},
   "outputs": [],
   "source": [
    "def count_word_frequency(string):\n",
    "    # YOUR CODE HERE\n",
    "    return\n",
    "\n",
    "sem2_tests.test_word_frequency(count_word_frequency)"
   ]
  },
  {
   "cell_type": "markdown",
   "metadata": {},
   "source": [
    "### Problem 5. Valid Palindrome\n",
    "    \n",
    "Given a non-empty string s, you may delete at most one character. Judge whether you can make it a palindrome."
   ]
  },
  {
   "cell_type": "code",
   "execution_count": null,
   "metadata": {},
   "outputs": [],
   "source": [
    "def is_almost_palindrome(string):\n",
    "    # YOUR CODE HERE\n",
    "    return\n",
    "\n",
    "sem2_tests.test_valid_palindrome(is_almost_palindrome)"
   ]
  },
  {
   "cell_type": "markdown",
   "metadata": {},
   "source": [
    "### Problem 6. Longest substring without repeating characters\n",
    "\n",
    "Given a string, find the length of the longest substring without repeating characters."
   ]
  },
  {
   "cell_type": "code",
   "execution_count": null,
   "metadata": {},
   "outputs": [],
   "source": [
    "def length_of_longest_substring(string):\n",
    "    # YOUR CODE HERE\n",
    "    return\n",
    "\n",
    "sem2_tests.test_longest_substring(length_of_longest_substring)"
   ]
  }
 ],
 "metadata": {
  "kernelspec": {
   "display_name": "Python 3",
   "language": "python",
   "name": "python3"
  },
  "language_info": {
   "codemirror_mode": {
    "name": "ipython",
    "version": 3
   },
   "file_extension": ".py",
   "mimetype": "text/x-python",
   "name": "python",
   "nbconvert_exporter": "python",
   "pygments_lexer": "ipython3",
   "version": "3.6.8"
  }
 },
 "nbformat": 4,
 "nbformat_minor": 2
}
