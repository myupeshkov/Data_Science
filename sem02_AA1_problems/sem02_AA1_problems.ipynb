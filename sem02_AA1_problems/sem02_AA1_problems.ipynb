{
 "cells": [
  {
   "cell_type": "markdown",
   "metadata": {},
   "source": [
    "## \"И помни, что коронный твой  - прямой\"\n",
    "*Высоцкий В.В., \"Честь Шахматной Короны\"*\n",
    "\n",
    "<br>\n",
    "\n",
    "Никаких дополнительных билбиотек, чистый питон, учимся программировать простые задачи.\n",
    "\n",
    "Сегодня разрешены brute force решения."
   ]
  },
  {
   "cell_type": "code",
   "execution_count": 1,
   "metadata": {},
   "outputs": [],
   "source": [
    "import sem2_tests"
   ]
  },
  {
   "cell_type": "markdown",
   "metadata": {},
   "source": [
    "### Problem 0. PEP8 (This is more important than you might think)\n",
    "\n",
    "https://www.kbsoftware.co.uk/docs/_downloads/a9d605adc5dbf1d1338643d6a756e6c7/pep8_cheat.pdf"
   ]
  },
  {
   "cell_type": "markdown",
   "metadata": {},
   "source": [
    "### Problem 1. Fizz Buzz \n",
    "Write a program that outputs the string representation of numbers from 1 to n.\n",
    "\n",
    "But for multiples of three it should output “Fizz” instead of the number and for the multiples of five output “Buzz”. For numbers which are multiples of both three and five output “FizzBuzz”.\n"
   ]
  },
  {
   "cell_type": "code",
   "execution_count": 2,
   "metadata": {},
   "outputs": [
    {
     "name": "stdout",
     "output_type": "stream",
     "text": [
      "OK!\n"
     ]
    }
   ],
   "source": [
    "def fizz_buzz(n):\n",
    "    \"\"\"\n",
    "    :type n: int\n",
    "    :rtype: List[str]\n",
    "    \"\"\"\n",
    "    # ans list\n",
    "    ans = []\n",
    "\n",
    "    for num in range(1,n+1):\n",
    "        \n",
    "        divisible_by_3 = (num % 3 == 0)\n",
    "        divisible_by_5 = (num % 5 == 0)\n",
    "\n",
    "        if divisible_by_3 and divisible_by_5:\n",
    "            # Divides by both 3 and 5, add FizzBuzz\n",
    "            ans.append(\"FizzBuzz\")\n",
    "        elif divisible_by_3:\n",
    "            # Divides by 3, add Fizz\n",
    "            ans.append(\"Fizz\")\n",
    "        elif divisible_by_5:\n",
    "            # Divides by 5, add Buzz\n",
    "            ans.append(\"Buzz\")\n",
    "        else:\n",
    "            # Not divisible by 3 or 5, add the number\n",
    "            ans.append(str(num))\n",
    "    return ans\n",
    "\n",
    "sem2_tests.test_fizz_buzz(fizz_buzz)"
   ]
  },
  {
   "cell_type": "code",
   "execution_count": 3,
   "metadata": {},
   "outputs": [
    {
     "data": {
      "text/plain": [
       "['1',\n",
       " '2',\n",
       " 'Fizz',\n",
       " '4',\n",
       " 'Buzz',\n",
       " 'Fizz',\n",
       " '7',\n",
       " '8',\n",
       " 'Fizz',\n",
       " 'Buzz',\n",
       " '11',\n",
       " 'Fizz',\n",
       " '13',\n",
       " '14',\n",
       " 'FizzBuzz']"
      ]
     },
     "execution_count": 3,
     "metadata": {},
     "output_type": "execute_result"
    }
   ],
   "source": [
    "fizz_buzz(15)"
   ]
  },
  {
   "cell_type": "markdown",
   "metadata": {},
   "source": [
    "### Problem 2. Fibonacci \n",
    "\n",
    "Write a program that asks the user how many Fibonnaci numbers to generate and then generates them. Take this opportunity to think about how you can use functions. Make sure to ask the user to enter the number of numbers in the sequence to generate.(Hint: The Fibonnaci seqence is a sequence of numbers where the next number in the sequence is the sum of the previous two numbers in the sequence. The sequence looks like this: 1, 1, 2, 3, 5, 8, 13, …)"
   ]
  },
  {
   "cell_type": "code",
   "execution_count": 6,
   "metadata": {},
   "outputs": [],
   "source": [
    "def fib(num):\n",
    "    #num = int(input(\"How many numbers to generate?: \"))\n",
    "    fib = [0] * num\n",
    "    fib[0] = 1\n",
    "    fib[1] = 1\n",
    "    for i in range(2, num):\n",
    "        fib[i] = fib[i-1] + fib[i-2]\n",
    "    return fib"
   ]
  },
  {
   "cell_type": "code",
   "execution_count": 7,
   "metadata": {},
   "outputs": [
    {
     "name": "stdout",
     "output_type": "stream",
     "text": [
      "1 1 2 3 5 8 13 21 34 55\n"
     ]
    }
   ],
   "source": [
    "print(*fib(10))"
   ]
  },
  {
   "cell_type": "markdown",
   "metadata": {},
   "source": [
    "### Problem 3. Find All Duplicates in an Array\n",
    "\n",
    "Given an array of integers, 1 ≤ a[i] ≤ n (n = size of array), some elements appear twice and others appear once.\n",
    "\n",
    "Find all the elements that appear twice in this array.\n",
    "\n",
    "Дополнительное условние: выводить елементы нужно в том же порядке, в котором они первый раз встретились в листе"
   ]
  },
  {
   "cell_type": "code",
   "execution_count": 12,
   "metadata": {},
   "outputs": [
    {
     "name": "stdout",
     "output_type": "stream",
     "text": [
      "OK!\n"
     ]
    }
   ],
   "source": [
    "def find_duplicates(arr):\n",
    "    ans = []\n",
    "    for i in range(len(arr)):\n",
    "        for j in range(i+1, len(arr)):\n",
    "            if arr[i] == arr[j]:\n",
    "                ans.append(arr[i])\n",
    "    return ans\n",
    "\n",
    "sem2_tests.test_find_duplicates(find_duplicates)"
   ]
  },
  {
   "cell_type": "code",
   "execution_count": 13,
   "metadata": {},
   "outputs": [],
   "source": [
    "dup_arr = [0, 4, 3, 2, 7, 8, 2, 3, 1, 98, 98]"
   ]
  },
  {
   "cell_type": "code",
   "execution_count": 14,
   "metadata": {},
   "outputs": [
    {
     "data": {
      "text/plain": [
       "[3, 2, 98]"
      ]
     },
     "execution_count": 14,
     "metadata": {},
     "output_type": "execute_result"
    }
   ],
   "source": [
    "find_duplicates(dup_arr)"
   ]
  },
  {
   "cell_type": "code",
   "execution_count": 15,
   "metadata": {},
   "outputs": [],
   "source": [
    "def diff(arr1, arr2): \n",
    "    diff = arr1[:]  # make a copy\n",
    "    ans = []\n",
    "    for x in arr2:\n",
    "        if x not in diff:\n",
    "            ans.append(x)\n",
    "        else:\n",
    "            diff.remove(x)\n",
    "    return ans"
   ]
  },
  {
   "cell_type": "code",
   "execution_count": 16,
   "metadata": {},
   "outputs": [
    {
     "data": {
      "text/plain": [
       "[3]"
      ]
     },
     "execution_count": 16,
     "metadata": {},
     "output_type": "execute_result"
    }
   ],
   "source": [
    "diff([1, 2, 3], [1, 2, 3, 3])"
   ]
  },
  {
   "cell_type": "code",
   "execution_count": 17,
   "metadata": {},
   "outputs": [
    {
     "name": "stdout",
     "output_type": "stream",
     "text": [
      "OK!\n"
     ]
    }
   ],
   "source": [
    "def find_duplicates2(arr):\n",
    "    arr_set = set(arr)\n",
    "    ans = diff(list(arr_set), arr)\n",
    "    return ans\n",
    "\n",
    "sem2_tests.test_find_duplicates(find_duplicates2)"
   ]
  },
  {
   "cell_type": "code",
   "execution_count": 18,
   "metadata": {},
   "outputs": [
    {
     "data": {
      "text/plain": [
       "[3]"
      ]
     },
     "execution_count": 18,
     "metadata": {},
     "output_type": "execute_result"
    }
   ],
   "source": [
    "find_duplicates([1, 2, 3, 3])"
   ]
  },
  {
   "cell_type": "code",
   "execution_count": 19,
   "metadata": {},
   "outputs": [
    {
     "data": {
      "text/plain": [
       "[3, 2, 98]"
      ]
     },
     "execution_count": 19,
     "metadata": {},
     "output_type": "execute_result"
    }
   ],
   "source": [
    "find_duplicates(dup_arr)"
   ]
  },
  {
   "cell_type": "markdown",
   "metadata": {},
   "source": [
    "### Problem 4. Word Frequency\n",
    "\n",
    "Write a script to calculate the frequency of each word.\n",
    "\n",
    "Your script should output sorted by descending frequency:\n",
    "\n",
    "Дополнительное условние: на вход поступает строка, на выход нужно получить лист из кортежей (слово, частота)  "
   ]
  },
  {
   "cell_type": "code",
   "execution_count": 20,
   "metadata": {},
   "outputs": [
    {
     "name": "stdout",
     "output_type": "stream",
     "text": [
      "OK!\n"
     ]
    }
   ],
   "source": [
    "def count_word_frequency(string):\n",
    "    s_list = string.split()\n",
    "    wordfreq = {}\n",
    "    for word in s_list:\n",
    "        if word not in wordfreq:\n",
    "            wordfreq[word] = 0\n",
    "        wordfreq[word] += 1\n",
    "    ans = sorted(wordfreq.items(), key=lambda x: x[1], reverse=True) \n",
    "    return ans\n",
    "\n",
    "sem2_tests.test_word_frequency(count_word_frequency)"
   ]
  },
  {
   "cell_type": "code",
   "execution_count": 21,
   "metadata": {},
   "outputs": [],
   "source": [
    "s = 'game game  of of of thrones'"
   ]
  },
  {
   "cell_type": "code",
   "execution_count": 22,
   "metadata": {},
   "outputs": [
    {
     "data": {
      "text/plain": [
       "['game', 'game', 'of', 'of', 'of', 'thrones']"
      ]
     },
     "execution_count": 22,
     "metadata": {},
     "output_type": "execute_result"
    }
   ],
   "source": [
    "s_split = s.split()\n",
    "s_split"
   ]
  },
  {
   "cell_type": "code",
   "execution_count": 23,
   "metadata": {},
   "outputs": [],
   "source": [
    "d = {}\n",
    "for word in s_split:\n",
    "    if word not in d:\n",
    "        d[word] = 0\n",
    "    d[word] += 1"
   ]
  },
  {
   "cell_type": "code",
   "execution_count": 24,
   "metadata": {},
   "outputs": [
    {
     "data": {
      "text/plain": [
       "{'game': 2, 'of': 3, 'thrones': 1}"
      ]
     },
     "execution_count": 24,
     "metadata": {},
     "output_type": "execute_result"
    }
   ],
   "source": [
    "d"
   ]
  },
  {
   "cell_type": "code",
   "execution_count": 25,
   "metadata": {},
   "outputs": [
    {
     "data": {
      "text/plain": [
       "dict_keys(['game', 'of', 'thrones'])"
      ]
     },
     "execution_count": 25,
     "metadata": {},
     "output_type": "execute_result"
    }
   ],
   "source": [
    "d.keys()"
   ]
  },
  {
   "cell_type": "code",
   "execution_count": 26,
   "metadata": {},
   "outputs": [
    {
     "data": {
      "text/plain": [
       "dict_items([('game', 2), ('of', 3), ('thrones', 1)])"
      ]
     },
     "execution_count": 26,
     "metadata": {},
     "output_type": "execute_result"
    }
   ],
   "source": [
    "d.items()"
   ]
  },
  {
   "cell_type": "code",
   "execution_count": 27,
   "metadata": {},
   "outputs": [
    {
     "data": {
      "text/plain": [
       "[('of', 3), ('game', 2), ('thrones', 1)]"
      ]
     },
     "execution_count": 27,
     "metadata": {},
     "output_type": "execute_result"
    }
   ],
   "source": [
    "sorted(d.items(), key=lambda x: x[1], reverse=True) "
   ]
  },
  {
   "cell_type": "markdown",
   "metadata": {},
   "source": [
    "### Problem 5. Valid Palindrome\n",
    "    \n",
    "Given a non-empty string s, you may delete at most one character. Judge whether you can make it a palindrome."
   ]
  },
  {
   "cell_type": "code",
   "execution_count": 28,
   "metadata": {},
   "outputs": [
    {
     "name": "stdout",
     "output_type": "stream",
     "text": [
      "OK!\n"
     ]
    }
   ],
   "source": [
    "def is_almost_palindrome(string):\n",
    "    for i in range(len(string)):\n",
    "        t = string[:i] + string[i+1:]\n",
    "        if t == t[::-1]:\n",
    "            return True\n",
    "    return string == string[::-1]\n",
    "\n",
    "sem2_tests.test_valid_palindrome(is_almost_palindrome)"
   ]
  },
  {
   "cell_type": "markdown",
   "metadata": {},
   "source": [
    "### Problem 6. Longest substring without repeating characters\n",
    "\n",
    "Given a string, find the length of the longest substring without repeating characters."
   ]
  },
  {
   "cell_type": "code",
   "execution_count": 29,
   "metadata": {},
   "outputs": [],
   "source": [
    "def isUnique(string):\n",
    "    init_len = len(string)\n",
    "    set_len = len(set(list(string)))\n",
    "    if init_len == set_len:\n",
    "        return True\n",
    "    else:\n",
    "        return False"
   ]
  },
  {
   "cell_type": "code",
   "execution_count": 30,
   "metadata": {},
   "outputs": [
    {
     "data": {
      "text/plain": [
       "['a', 'b', 'c', 'a', 'b', 'c']"
      ]
     },
     "execution_count": 30,
     "metadata": {},
     "output_type": "execute_result"
    }
   ],
   "source": [
    "list('abcabc')"
   ]
  },
  {
   "cell_type": "code",
   "execution_count": 31,
   "metadata": {},
   "outputs": [
    {
     "data": {
      "text/plain": [
       "{'a', 'b', 'c'}"
      ]
     },
     "execution_count": 31,
     "metadata": {},
     "output_type": "execute_result"
    }
   ],
   "source": [
    "set(list('abcabc'))"
   ]
  },
  {
   "cell_type": "code",
   "execution_count": 32,
   "metadata": {},
   "outputs": [
    {
     "data": {
      "text/plain": [
       "True"
      ]
     },
     "execution_count": 32,
     "metadata": {},
     "output_type": "execute_result"
    }
   ],
   "source": [
    "isUnique('abc')"
   ]
  },
  {
   "cell_type": "code",
   "execution_count": 33,
   "metadata": {},
   "outputs": [
    {
     "data": {
      "text/plain": [
       "False"
      ]
     },
     "execution_count": 33,
     "metadata": {},
     "output_type": "execute_result"
    }
   ],
   "source": [
    "isUnique('abcabc')"
   ]
  },
  {
   "cell_type": "code",
   "execution_count": 34,
   "metadata": {},
   "outputs": [
    {
     "data": {
      "text/plain": [
       "'bc'"
      ]
     },
     "execution_count": 34,
     "metadata": {},
     "output_type": "execute_result"
    }
   ],
   "source": [
    "'abcabc'[1:3]"
   ]
  },
  {
   "cell_type": "code",
   "execution_count": 35,
   "metadata": {},
   "outputs": [
    {
     "name": "stdout",
     "output_type": "stream",
     "text": [
      "OK!\n"
     ]
    }
   ],
   "source": [
    "def length_of_longest_substring(string):\n",
    "    ans = 0\n",
    "    for i in range(len(string)):\n",
    "        for j in range(i+1, len(string)):\n",
    "            if isUnique(string[i:j]):\n",
    "                ans = max(ans, j - i)\n",
    "    return ans\n",
    "\n",
    "sem2_tests.test_longest_substring(length_of_longest_substring)"
   ]
  }
 ],
 "metadata": {
  "kernelspec": {
   "display_name": "Python 3",
   "language": "python",
   "name": "python3"
  },
  "language_info": {
   "codemirror_mode": {
    "name": "ipython",
    "version": 3
   },
   "file_extension": ".py",
   "mimetype": "text/x-python",
   "name": "python",
   "nbconvert_exporter": "python",
   "pygments_lexer": "ipython3",
   "version": "3.6.6"
  }
 },
 "nbformat": 4,
 "nbformat_minor": 2
}
