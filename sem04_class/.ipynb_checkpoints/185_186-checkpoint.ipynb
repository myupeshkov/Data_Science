{
 "cells": [
  {
   "cell_type": "code",
   "execution_count": null,
   "metadata": {},
   "outputs": [],
   "source": [
    "4 8 15 16 23 42"
   ]
  },
  {
   "cell_type": "code",
   "execution_count": null,
   "metadata": {},
   "outputs": [],
   "source": [
    "# Киллер правила\n",
    "# \n",
    "# 100 человек, каждый одновременно чья-то жертва и чей-то убийца  \n",
    "# у каждого человека в конверте имя \n",
    "#\n",
    "#\n",
    "#  Филипп -> Паша -> Лера -> Саша -> Филипп\n",
    "#  Филипп -> Лера -> Саша -> Филипп\n",
    "\n",
    "# Устные вопросы:\n",
    "# Сколько всего раздач существует?    100*99*98*...*3*2*1 = 100! \n",
    "# P(Паша получил конверт с собой) = 1/100\n",
    "\n",
    "# 0, 1, ... , 98, 99 -> 100!\n",
    "# 0 | 1, 2, ..., 98, 99 -> 1* 99! \n",
    "# 99!/100! = 1/100\n",
    "\n",
    "# P(Лера получила конверт с собой) = 1/100\n",
    "\n",
    "# P(Лера и Паша суицидники) = 98!/100! = 1/99*1/100\n",
    "\n",
    "# 0, 1, ... , 98, 99 -> 100!\n",
    "# 0, 1 | 2, ..., 98, 99 -> 1* 1 * 98! \n",
    "\n",
    "# P(Лера <-> Паша) = 1/99*1/100\n",
    "\n",
    "# X - количество суицидов, Y - мэтчинги\n",
    "# E(X), E(Y) - ? "
   ]
  },
  {
   "cell_type": "code",
   "execution_count": 1,
   "metadata": {},
   "outputs": [],
   "source": [
    "import numpy as np"
   ]
  },
  {
   "cell_type": "code",
   "execution_count": 2,
   "metadata": {},
   "outputs": [
    {
     "data": {
      "text/plain": [
       "[1, 2, 3, 3, 2, 1]"
      ]
     },
     "execution_count": 2,
     "metadata": {},
     "output_type": "execute_result"
    }
   ],
   "source": [
    "xx = [1, 2, 3]\n",
    "yy = [3, 2, 1]\n",
    "\n",
    "xx + yy"
   ]
  },
  {
   "cell_type": "code",
   "execution_count": 3,
   "metadata": {},
   "outputs": [
    {
     "data": {
      "text/plain": [
       "array([4, 4, 4])"
      ]
     },
     "execution_count": 3,
     "metadata": {},
     "output_type": "execute_result"
    }
   ],
   "source": [
    "x = np.array(xx)\n",
    "y = np.array(yy)\n",
    "\n",
    "x + y"
   ]
  },
  {
   "cell_type": "code",
   "execution_count": 6,
   "metadata": {},
   "outputs": [
    {
     "data": {
      "text/plain": [
       "array([2, 3])"
      ]
     },
     "execution_count": 6,
     "metadata": {},
     "output_type": "execute_result"
    }
   ],
   "source": [
    "x[x > 1]"
   ]
  },
  {
   "cell_type": "code",
   "execution_count": 15,
   "metadata": {
    "scrolled": false
   },
   "outputs": [
    {
     "data": {
      "text/plain": [
       "array([0, 1, 2, 3, 4])"
      ]
     },
     "execution_count": 15,
     "metadata": {},
     "output_type": "execute_result"
    }
   ],
   "source": [
    "np.arange(5)"
   ]
  },
  {
   "cell_type": "code",
   "execution_count": 89,
   "metadata": {},
   "outputs": [
    {
     "data": {
      "text/plain": [
       "array([1, 4, 2, 3, 0])"
      ]
     },
     "execution_count": 89,
     "metadata": {},
     "output_type": "execute_result"
    }
   ],
   "source": [
    "x = np.arange(5)\n",
    "np.random.shuffle(x)\n",
    "x"
   ]
  },
  {
   "cell_type": "code",
   "execution_count": 92,
   "metadata": {},
   "outputs": [
    {
     "data": {
      "text/plain": [
       "2"
      ]
     },
     "execution_count": 92,
     "metadata": {},
     "output_type": "execute_result"
    }
   ],
   "source": [
    "np.sum(x == np.arange(5))"
   ]
  },
  {
   "cell_type": "code",
   "execution_count": 100,
   "metadata": {},
   "outputs": [
    {
     "data": {
      "text/plain": [
       "array([0., 0., 0., 0., 0.])"
      ]
     },
     "execution_count": 100,
     "metadata": {},
     "output_type": "execute_result"
    }
   ],
   "source": [
    "np.zeros(5)"
   ]
  },
  {
   "cell_type": "code",
   "execution_count": 101,
   "metadata": {},
   "outputs": [
    {
     "data": {
      "text/plain": [
       "array([1., 1., 1., 1., 1.])"
      ]
     },
     "execution_count": 101,
     "metadata": {},
     "output_type": "execute_result"
    }
   ],
   "source": [
    "np.ones(5)"
   ]
  },
  {
   "cell_type": "code",
   "execution_count": 102,
   "metadata": {},
   "outputs": [
    {
     "data": {
      "text/plain": [
       "array([[1., 0., 0., 0., 0.],\n",
       "       [0., 1., 0., 0., 0.],\n",
       "       [0., 0., 1., 0., 0.],\n",
       "       [0., 0., 0., 1., 0.],\n",
       "       [0., 0., 0., 0., 1.]])"
      ]
     },
     "execution_count": 102,
     "metadata": {},
     "output_type": "execute_result"
    }
   ],
   "source": [
    "np.eye(5)"
   ]
  },
  {
   "cell_type": "code",
   "execution_count": 106,
   "metadata": {},
   "outputs": [
    {
     "data": {
      "text/plain": [
       "3"
      ]
     },
     "execution_count": 106,
     "metadata": {},
     "output_type": "execute_result"
    }
   ],
   "source": [
    "murder = np.array([1,2,3,4])\n",
    "alive =  np.array([1,1,0,1])\n",
    "\n",
    "np.random.choice(murder)"
   ]
  },
  {
   "cell_type": "code",
   "execution_count": 109,
   "metadata": {},
   "outputs": [
    {
     "data": {
      "text/plain": [
       "array([1, 2, 4])"
      ]
     },
     "execution_count": 109,
     "metadata": {},
     "output_type": "execute_result"
    }
   ],
   "source": [
    "murder[alive == 1]"
   ]
  },
  {
   "cell_type": "code",
   "execution_count": 131,
   "metadata": {},
   "outputs": [
    {
     "data": {
      "text/plain": [
       "(8, 4)"
      ]
     },
     "execution_count": 131,
     "metadata": {},
     "output_type": "execute_result"
    }
   ],
   "source": [
    "reward = np.array([1, 0, 0, 1, 8, 0, 2, 1, 1, 4])\n",
    "\n",
    "np.max(reward), np.argmax(reward)"
   ]
  },
  {
   "cell_type": "code",
   "execution_count": 136,
   "metadata": {},
   "outputs": [
    {
     "data": {
      "text/plain": [
       "array([1, 1, 1, 1, 1])"
      ]
     },
     "execution_count": 136,
     "metadata": {},
     "output_type": "execute_result"
    }
   ],
   "source": [
    "np.ones(5, dtype=\"int\")"
   ]
  },
  {
   "cell_type": "code",
   "execution_count": null,
   "metadata": {},
   "outputs": [],
   "source": [
    "# model = LinearRegression()\n",
    "# model2 = LinearRegression()\n",
    "\n",
    "# зажарить(картошка)  - функция\n",
    "# картошка.зажарить() - метод"
   ]
  },
  {
   "cell_type": "code",
   "execution_count": 137,
   "metadata": {},
   "outputs": [],
   "source": [
    "class Killer:\n",
    "    \n",
    "    # конструктор (вызывается 1 раз при создании нового объекта)\n",
    "    # self - способ сослаться на самого себя\n",
    "    \n",
    "    def __init__(self, n):\n",
    "        # атрибуты класса \n",
    "        self.n = n\n",
    "        self.murder_target = np.arange(n)\n",
    "        self.alive = np.ones(n, dtype=\"int\")\n",
    "        self.reward = np.zeros(n, dtype=\"int\")\n",
    "        \n",
    "        # методы, которые должны запуститься при создании экземпляра класса\n",
    "        self._create_game()\n",
    "        \n",
    "    def __repr__(self):  # описание экземпляра\n",
    "        return f\"Killer({self.n})\"\n",
    "    \n",
    "    def __str__(self): # более длинное человеческое описание \n",
    "        return f\"Игра в киллера на {self.n} человек\"\n",
    "    \n",
    "    # своё собственное сложение\n",
    "    def __add__(self, other):\n",
    "        n = self.n + other.n\n",
    "        game = Killer(n)\n",
    "        return game\n",
    "    \n",
    "    def _create_game(self):\n",
    "        np.random.shuffle(self.murder_target)\n",
    "    \n",
    "    def is_suicide(self, i):\n",
    "        return self.murder_target[i] == i\n",
    "                \n",
    "    def is_matching(self, i):\n",
    "        return game.murder_target[game.murder_target[i]] == i\n",
    "    \n",
    "    def count_suicide(self):\n",
    "        return np.sum(self.murder_target == np.arange(self.n))\n",
    "        \n",
    "    def count_matching(self):\n",
    "        # задание \n",
    "        pass\n",
    "        \n",
    "    def step(self):\n",
    "        killer_index = np.random.choice(self.murder_target[self.alive == 1])\n",
    "        killer_target = self.murder_target[killer_index]\n",
    "        \n",
    "        self.alive[killer_target] = 0\n",
    "        self.reward[killer_index] += 1\n",
    "        \n",
    "        self.murder_target[killer_index] = self.murder_target[killer_target]\n",
    "        self.murder_target[killer_target] = -1\n",
    "        \n",
    "        print(f\"Ход делает игрок {killer_index}\")\n",
    "        print(self.murder_target)\n",
    "        print(self.alive)\n",
    "        print(self.reward)\n",
    "        print(\" \")\n",
    "        pass\n",
    "    \n",
    "    def play_game(self):\n",
    "        print(f\"Стартоая позиция:\")\n",
    "        print(self.murder_target)\n",
    "        print(self.alive)\n",
    "        print(self.reward)\n",
    "        print(\" \")        \n",
    "        \n",
    "        while np.sum(self.alive) > 0:\n",
    "            self.step()\n",
    "            \n",
    "        print(\"Игра завершилась\")\n",
    "        print(f\"Победил игрок {np.argmax(self.reward)} со счётом {np.max(self.reward)}\")\n",
    "    \n",
    "    "
   ]
  },
  {
   "cell_type": "code",
   "execution_count": 87,
   "metadata": {},
   "outputs": [
    {
     "data": {
      "text/plain": [
       "Killer(5)"
      ]
     },
     "execution_count": 87,
     "metadata": {},
     "output_type": "execute_result"
    }
   ],
   "source": [
    "game = Killer(5)\n",
    "game"
   ]
  },
  {
   "cell_type": "code",
   "execution_count": 88,
   "metadata": {},
   "outputs": [
    {
     "name": "stdout",
     "output_type": "stream",
     "text": [
      "Игра в киллера на 5 человек\n"
     ]
    }
   ],
   "source": [
    "print(game)"
   ]
  },
  {
   "cell_type": "code",
   "execution_count": 66,
   "metadata": {},
   "outputs": [
    {
     "data": {
      "text/plain": [
       "Killer(5)"
      ]
     },
     "execution_count": 66,
     "metadata": {},
     "output_type": "execute_result"
    }
   ],
   "source": [
    "game1 = Killer(3)\n",
    "game2 = Killer(2)\n",
    "\n",
    "game = game1 + game2 \n",
    "game"
   ]
  },
  {
   "cell_type": "markdown",
   "metadata": {},
   "source": [
    "Так какие же $E(X)$ и $E(Y)$? "
   ]
  },
  {
   "cell_type": "code",
   "execution_count": 94,
   "metadata": {},
   "outputs": [
    {
     "data": {
      "text/plain": [
       "array([0, 4, 1, 3, 2])"
      ]
     },
     "execution_count": 94,
     "metadata": {},
     "output_type": "execute_result"
    }
   ],
   "source": [
    "game = Killer(5)\n",
    "game.murder_target"
   ]
  },
  {
   "cell_type": "code",
   "execution_count": 95,
   "metadata": {},
   "outputs": [
    {
     "data": {
      "text/plain": [
       "False"
      ]
     },
     "execution_count": 95,
     "metadata": {},
     "output_type": "execute_result"
    }
   ],
   "source": [
    "game.is_suicide(1)"
   ]
  },
  {
   "cell_type": "code",
   "execution_count": 96,
   "metadata": {},
   "outputs": [
    {
     "data": {
      "text/plain": [
       "True"
      ]
     },
     "execution_count": 96,
     "metadata": {},
     "output_type": "execute_result"
    }
   ],
   "source": [
    "game.is_matching(0)"
   ]
  },
  {
   "cell_type": "code",
   "execution_count": 97,
   "metadata": {
    "scrolled": true
   },
   "outputs": [
    {
     "data": {
      "text/plain": [
       "2"
      ]
     },
     "execution_count": 97,
     "metadata": {},
     "output_type": "execute_result"
    }
   ],
   "source": [
    "game.count_suicide()"
   ]
  },
  {
   "cell_type": "code",
   "execution_count": 104,
   "metadata": {},
   "outputs": [
    {
     "data": {
      "text/plain": [
       "0.99"
      ]
     },
     "execution_count": 104,
     "metadata": {},
     "output_type": "execute_result"
    }
   ],
   "source": [
    "n_obs = 1000\n",
    "EX = np.zeros(n_obs)\n",
    "\n",
    "for i in range(n_obs):\n",
    "    game = Killer(100)\n",
    "    EX[i] = game.count_suicide()\n",
    "    \n",
    "np.mean(EX)"
   ]
  },
  {
   "cell_type": "markdown",
   "metadata": {},
   "source": [
    "Один шаг игры. Случайная пара людей => убийство."
   ]
  },
  {
   "cell_type": "code",
   "execution_count": null,
   "metadata": {},
   "outputs": [],
   "source": [
    "# [2, 1, 3, 0]  murder_target\n",
    "# [1, 1, 1, 1]  alive\n",
    "\n",
    "# [2, -, 3, 0] \n",
    "# [1, 0, 1, 1]\n",
    "\n",
    "# [2, -, -, 0] \n",
    "# [1, 0, 0, 1]\n",
    "\n",
    "# [3, -, -, -] \n",
    "# [1, 0, 0, 0]"
   ]
  },
  {
   "cell_type": "code",
   "execution_count": 138,
   "metadata": {},
   "outputs": [
    {
     "data": {
      "text/plain": [
       "array([2, 9, 4, 6, 1, 8, 7, 3, 0, 5])"
      ]
     },
     "execution_count": 138,
     "metadata": {},
     "output_type": "execute_result"
    }
   ],
   "source": [
    "game = Killer(10)\n",
    "game.murder_target"
   ]
  },
  {
   "cell_type": "code",
   "execution_count": 139,
   "metadata": {},
   "outputs": [
    {
     "name": "stdout",
     "output_type": "stream",
     "text": [
      "Стартоая позиция:\n",
      "[2 9 4 6 1 8 7 3 0 5]\n",
      "[1 1 1 1 1 1 1 1 1 1]\n",
      "[0 0 0 0 0 0 0 0 0 0]\n",
      " \n",
      "Ход делает игрок 3\n",
      "[ 2  9  4  7  1  8 -1  3  0  5]\n",
      "[1 1 1 1 1 1 0 1 1 1]\n",
      "[0 0 0 1 0 0 0 0 0 0]\n",
      " \n",
      "Ход делает игрок 5\n",
      "[ 2  9  4  7  1  0 -1  3 -1  5]\n",
      "[1 1 1 1 1 1 0 1 0 1]\n",
      "[0 0 0 1 0 1 0 0 0 0]\n",
      " \n",
      "Ход делает игрок 5\n",
      "[-1  9  4  7  1  2 -1  3 -1  5]\n",
      "[0 1 1 1 1 1 0 1 0 1]\n",
      "[0 0 0 1 0 2 0 0 0 0]\n",
      " \n",
      "Ход делает игрок 2\n",
      "[-1  9  1  7 -1  2 -1  3 -1  5]\n",
      "[0 1 1 1 0 1 0 1 0 1]\n",
      "[0 0 1 1 0 2 0 0 0 0]\n",
      " \n",
      "Ход делает игрок 2\n",
      "[-1 -1  9  7 -1  2 -1  3 -1  5]\n",
      "[0 0 1 1 0 1 0 1 0 1]\n",
      "[0 0 2 1 0 2 0 0 0 0]\n",
      " \n",
      "Ход делает игрок 2\n",
      "[-1 -1  5  7 -1  2 -1  3 -1 -1]\n",
      "[0 0 1 1 0 1 0 1 0 0]\n",
      "[0 0 3 1 0 2 0 0 0 0]\n",
      " \n",
      "Ход делает игрок 7\n",
      "[-1 -1  5 -1 -1  2 -1  7 -1 -1]\n",
      "[0 0 1 0 0 1 0 1 0 0]\n",
      "[0 0 3 1 0 2 0 1 0 0]\n",
      " \n",
      "Ход делает игрок 7\n",
      "[-1 -1  5 -1 -1  2 -1 -1 -1 -1]\n",
      "[0 0 1 0 0 1 0 0 0 0]\n",
      "[0 0 3 1 0 2 0 2 0 0]\n",
      " \n",
      "Ход делает игрок 2\n",
      "[-1 -1  2 -1 -1 -1 -1 -1 -1 -1]\n",
      "[0 0 1 0 0 0 0 0 0 0]\n",
      "[0 0 4 1 0 2 0 2 0 0]\n",
      " \n",
      "Ход делает игрок 2\n",
      "[-1 -1 -1 -1 -1 -1 -1 -1 -1 -1]\n",
      "[0 0 0 0 0 0 0 0 0 0]\n",
      "[0 0 5 1 0 2 0 2 0 0]\n",
      " \n",
      "Игра завершилась\n",
      "Победил игрок 2 со счётом 5\n"
     ]
    }
   ],
   "source": [
    "game.play_game()"
   ]
  },
  {
   "cell_type": "markdown",
   "metadata": {},
   "source": [
    " __Ещё вопросы:__ \n",
    " \n",
    " - Математическое ожидание числа цепочек в игре\n",
    " - Математическое ожидание максимально длинной цепочки \n",
    " - Математическое ожидание очков у победителя \n",
    " \n",
    " ------\n",
    " \n",
    " - Поменялись правила игры! Если возникает мэтчинг или суицид, мы случайно меняем конверты между двумя людьми при суициде и между 4 людьми при мэтчинге. Математическое ожидание числа таких обменов. \n",
    " \n",
    " "
   ]
  },
  {
   "cell_type": "code",
   "execution_count": null,
   "metadata": {},
   "outputs": [],
   "source": [
    "#[1, 0, 3, 4, 2]   # 2 цепи: \n",
    "                   # 1 -> 0 -> 1 \n",
    "                   # 2 -> 3 -> 4 -> 2"
   ]
  },
  {
   "cell_type": "code",
   "execution_count": null,
   "metadata": {},
   "outputs": [],
   "source": [
    "\n",
    "\n"
   ]
  }
 ],
 "metadata": {
  "kernelspec": {
   "display_name": "Python 3",
   "language": "python",
   "name": "python3"
  },
  "language_info": {
   "codemirror_mode": {
    "name": "ipython",
    "version": 3
   },
   "file_extension": ".py",
   "mimetype": "text/x-python",
   "name": "python",
   "nbconvert_exporter": "python",
   "pygments_lexer": "ipython3",
   "version": "3.7.3"
  }
 },
 "nbformat": 4,
 "nbformat_minor": 2
}
