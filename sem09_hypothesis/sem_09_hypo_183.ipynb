{
 "cells": [
  {
   "cell_type": "markdown",
   "metadata": {},
   "source": [
    "# Наполеон задумался о результатах контрольной 1 по ноду :)\n",
    "\n",
    "\n",
    "<img src=\"https://upload.wikimedia.org/wikipedia/commons/5/53/Napoleon_Paul_Delaroche.jpg\" height=\"500\" width=\"400\"> \n"
   ]
  },
  {
   "cell_type": "code",
   "execution_count": 1,
   "metadata": {},
   "outputs": [],
   "source": [
    "import numpy as np\n",
    "import pandas as pd\n",
    "\n",
    "from scipy import stats # more style :)\n",
    "\n",
    "import seaborn as sns\n",
    "import matplotlib.pyplot as plt\n",
    "\n",
    "plt.style.use('ggplot')  # стиль для графиков\n",
    "%matplotlib inline"
   ]
  },
  {
   "cell_type": "markdown",
   "metadata": {},
   "source": [
    "# Задаченька 1 или Французы клюют только на французских покойников\n",
    "\n",
    "Девятый семинар по наукам о данных мы начинаем на неделе с 18 мая. В этот день корсиканец Наполеон был провозглашён императором Франции. А нам настала пора загрузить файлик с оценками по ноду, `nod_2020-05-17.csv`.\n",
    "\n"
   ]
  },
  {
   "cell_type": "code",
   "execution_count": 11,
   "metadata": {},
   "outputs": [
    {
     "data": {
      "text/html": [
       "<div>\n",
       "<style scoped>\n",
       "    .dataframe tbody tr th:only-of-type {\n",
       "        vertical-align: middle;\n",
       "    }\n",
       "\n",
       "    .dataframe tbody tr th {\n",
       "        vertical-align: top;\n",
       "    }\n",
       "\n",
       "    .dataframe thead th {\n",
       "        text-align: right;\n",
       "    }\n",
       "</style>\n",
       "<table border=\"1\" class=\"dataframe\">\n",
       "  <thead>\n",
       "    <tr style=\"text-align: right;\">\n",
       "      <th></th>\n",
       "      <th>group</th>\n",
       "      <th>fio</th>\n",
       "      <th>contest_login</th>\n",
       "      <th>hse_mail</th>\n",
       "      <th>alt_mail</th>\n",
       "      <th>a1_coursera</th>\n",
       "      <th>a2_coursera</th>\n",
       "      <th>b_coursera</th>\n",
       "      <th>coursera</th>\n",
       "      <th>d1a</th>\n",
       "      <th>...</th>\n",
       "      <th>d3b</th>\n",
       "      <th>d3c</th>\n",
       "      <th>d3</th>\n",
       "      <th>k3a</th>\n",
       "      <th>k3b</th>\n",
       "      <th>k3c</th>\n",
       "      <th>k3</th>\n",
       "      <th>nakop</th>\n",
       "      <th>total</th>\n",
       "      <th>final</th>\n",
       "    </tr>\n",
       "  </thead>\n",
       "  <tbody>\n",
       "    <tr>\n",
       "      <td>0</td>\n",
       "      <td>БЭК181</td>\n",
       "      <td>Аверьянов Николай Егорович</td>\n",
       "      <td>eds_python_2020_1</td>\n",
       "      <td>neaveryanov@edu.hse.ru</td>\n",
       "      <td>NaN</td>\n",
       "      <td>50.0</td>\n",
       "      <td>50.0</td>\n",
       "      <td>40.0</td>\n",
       "      <td>10.0</td>\n",
       "      <td>1.0</td>\n",
       "      <td>...</td>\n",
       "      <td>NaN</td>\n",
       "      <td>NaN</td>\n",
       "      <td>NaN</td>\n",
       "      <td>NaN</td>\n",
       "      <td>NaN</td>\n",
       "      <td>NaN</td>\n",
       "      <td>NaN</td>\n",
       "      <td>NaN</td>\n",
       "      <td>4.520000</td>\n",
       "      <td>5.0</td>\n",
       "    </tr>\n",
       "    <tr>\n",
       "      <td>1</td>\n",
       "      <td>БЭК181</td>\n",
       "      <td>Алиев Эльнур Гашимович</td>\n",
       "      <td>eds_python_2020_2</td>\n",
       "      <td>egaliev_1@edu.hse.ru</td>\n",
       "      <td>NaN</td>\n",
       "      <td>50.0</td>\n",
       "      <td>50.0</td>\n",
       "      <td>40.0</td>\n",
       "      <td>10.0</td>\n",
       "      <td>1.0</td>\n",
       "      <td>...</td>\n",
       "      <td>NaN</td>\n",
       "      <td>NaN</td>\n",
       "      <td>NaN</td>\n",
       "      <td>NaN</td>\n",
       "      <td>NaN</td>\n",
       "      <td>NaN</td>\n",
       "      <td>NaN</td>\n",
       "      <td>NaN</td>\n",
       "      <td>3.840000</td>\n",
       "      <td>4.0</td>\n",
       "    </tr>\n",
       "    <tr>\n",
       "      <td>2</td>\n",
       "      <td>БЭК181</td>\n",
       "      <td>Алтунина Анастасия Игоревна</td>\n",
       "      <td>eds_python_2020_3</td>\n",
       "      <td>aialtunina@edu.hse.ru</td>\n",
       "      <td>NaN</td>\n",
       "      <td>50.0</td>\n",
       "      <td>50.0</td>\n",
       "      <td>40.0</td>\n",
       "      <td>10.0</td>\n",
       "      <td>1.0</td>\n",
       "      <td>...</td>\n",
       "      <td>NaN</td>\n",
       "      <td>NaN</td>\n",
       "      <td>NaN</td>\n",
       "      <td>NaN</td>\n",
       "      <td>NaN</td>\n",
       "      <td>NaN</td>\n",
       "      <td>NaN</td>\n",
       "      <td>NaN</td>\n",
       "      <td>4.140000</td>\n",
       "      <td>4.0</td>\n",
       "    </tr>\n",
       "    <tr>\n",
       "      <td>3</td>\n",
       "      <td>БЭК181</td>\n",
       "      <td>Байкалова Дарья Александровна</td>\n",
       "      <td>eds_python_2020_4</td>\n",
       "      <td>dabaykalova@edu.hse.ru</td>\n",
       "      <td>NaN</td>\n",
       "      <td>50.0</td>\n",
       "      <td>50.0</td>\n",
       "      <td>40.0</td>\n",
       "      <td>10.0</td>\n",
       "      <td>1.0</td>\n",
       "      <td>...</td>\n",
       "      <td>NaN</td>\n",
       "      <td>NaN</td>\n",
       "      <td>NaN</td>\n",
       "      <td>NaN</td>\n",
       "      <td>NaN</td>\n",
       "      <td>NaN</td>\n",
       "      <td>NaN</td>\n",
       "      <td>NaN</td>\n",
       "      <td>3.900000</td>\n",
       "      <td>4.0</td>\n",
       "    </tr>\n",
       "    <tr>\n",
       "      <td>4</td>\n",
       "      <td>БЭК181</td>\n",
       "      <td>Васьков Алексей Васильевич</td>\n",
       "      <td>eds_python_2020_5</td>\n",
       "      <td>avvaskov@edu.hse.ru</td>\n",
       "      <td>NaN</td>\n",
       "      <td>50.0</td>\n",
       "      <td>50.0</td>\n",
       "      <td>40.0</td>\n",
       "      <td>10.0</td>\n",
       "      <td>0.0</td>\n",
       "      <td>...</td>\n",
       "      <td>NaN</td>\n",
       "      <td>NaN</td>\n",
       "      <td>NaN</td>\n",
       "      <td>NaN</td>\n",
       "      <td>NaN</td>\n",
       "      <td>NaN</td>\n",
       "      <td>NaN</td>\n",
       "      <td>NaN</td>\n",
       "      <td>3.566667</td>\n",
       "      <td>4.0</td>\n",
       "    </tr>\n",
       "  </tbody>\n",
       "</table>\n",
       "<p>5 rows × 46 columns</p>\n",
       "</div>"
      ],
      "text/plain": [
       "    group                            fio      contest_login  \\\n",
       "0  БЭК181     Аверьянов Николай Егорович  eds_python_2020_1   \n",
       "1  БЭК181         Алиев Эльнур Гашимович  eds_python_2020_2   \n",
       "2  БЭК181    Алтунина Анастасия Игоревна  eds_python_2020_3   \n",
       "3  БЭК181  Байкалова Дарья Александровна  eds_python_2020_4   \n",
       "4  БЭК181     Васьков Алексей Васильевич  eds_python_2020_5   \n",
       "\n",
       "                 hse_mail alt_mail  a1_coursera  a2_coursera  b_coursera  \\\n",
       "0  neaveryanov@edu.hse.ru      NaN         50.0         50.0        40.0   \n",
       "1    egaliev_1@edu.hse.ru      NaN         50.0         50.0        40.0   \n",
       "2   aialtunina@edu.hse.ru      NaN         50.0         50.0        40.0   \n",
       "3  dabaykalova@edu.hse.ru      NaN         50.0         50.0        40.0   \n",
       "4     avvaskov@edu.hse.ru      NaN         50.0         50.0        40.0   \n",
       "\n",
       "   coursera  d1a  ...  d3b  d3c  d3  k3a  k3b  k3c  k3  nakop     total  final  \n",
       "0      10.0  1.0  ...  NaN  NaN NaN  NaN  NaN  NaN NaN    NaN  4.520000    5.0  \n",
       "1      10.0  1.0  ...  NaN  NaN NaN  NaN  NaN  NaN NaN    NaN  3.840000    4.0  \n",
       "2      10.0  1.0  ...  NaN  NaN NaN  NaN  NaN  NaN NaN    NaN  4.140000    4.0  \n",
       "3      10.0  1.0  ...  NaN  NaN NaN  NaN  NaN  NaN NaN    NaN  3.900000    4.0  \n",
       "4      10.0  0.0  ...  NaN  NaN NaN  NaN  NaN  NaN NaN    NaN  3.566667    4.0  \n",
       "\n",
       "[5 rows x 46 columns]"
      ]
     },
     "execution_count": 11,
     "metadata": {},
     "output_type": "execute_result"
    }
   ],
   "source": [
    "nod = pd.read_csv('nod_2020-05-17.csv')\n",
    "nod.head()"
   ]
  },
  {
   "cell_type": "code",
   "execution_count": 12,
   "metadata": {},
   "outputs": [],
   "source": [
    "nod.dropna(subset=[\"k1\"], inplace=True)\n"
   ]
  },
  {
   "cell_type": "markdown",
   "metadata": {},
   "source": [
    "__а)__ Постройте гистограмму результатов за первую контрольную, переменная `k1` :)"
   ]
  },
  {
   "cell_type": "code",
   "execution_count": 24,
   "metadata": {},
   "outputs": [
    {
     "data": {
      "image/png": "[encoded data removed]",
      "text/plain": [
       "<Figure size 432x288 with 1 Axes>"
      ]
     },
     "metadata": {
      "needs_background": "light"
     },
     "output_type": "display_data"
    }
   ],
   "source": [
    "x = np.linspace(0, 14, 300)\n",
    "y = stats.norm(loc=nod.k1.mean(), scale=nod.k1.std()).pdf(x)\n",
    "\n",
    "plt.figure()\n",
    "nod.k1.hist(bins=15, density=True)\n",
    "plt.plot(x, y)\n",
    "plt.show()"
   ]
  },
  {
   "cell_type": "code",
   "execution_count": 27,
   "metadata": {},
   "outputs": [
    {
     "data": {
      "text/plain": [
       "KstestResult(statistic=0.052264904482032776, pvalue=0.22936091387357344)"
      ]
     },
     "execution_count": 27,
     "metadata": {},
     "output_type": "execute_result"
    }
   ],
   "source": [
    "stats.kstest(nod.k1.values, 'norm', args=(nod.k1.mean(), nod.k1.std()))"
   ]
  },
  {
   "cell_type": "markdown",
   "metadata": {},
   "source": [
    "Предположим невероятное! А именно, независимость и одинаковую распределённость наших наблюдений!\n",
    "\n",
    "__б)__ Постройте примерный $95\\%$-й доверительный интервал для ожидамоего результата за первую контрольную.\n",
    "\n",
    "$$\n",
    "\\left[\\bar x - z_{crit} \\sqrt{\\frac{\\hat\\sigma^2}{n}} ; \\bar x + z_{crit} \\sqrt{\\frac{\\hat\\sigma^2}{n}} \\right]\n",
    "$$"
   ]
  },
  {
   "cell_type": "code",
   "execution_count": 44,
   "metadata": {},
   "outputs": [
    {
     "name": "stdout",
     "output_type": "stream",
     "text": [
      "Доверительный интервал 5.115697343992563 5.746866758571539\n"
     ]
    }
   ],
   "source": [
    "alpha = 0.05\n",
    "n = len(nod.k1.values)\n",
    "\n",
    "mu = nod.k1.mean()\n",
    "sd = np.sqrt(nod.k1.var()/n)\n",
    "\n",
    "z_crit = stats.t(n-1).ppf(1 - alpha/2)\n",
    "\n",
    "print(\"Доверительный интервал\", mu - z_crit * sd, mu + z_crit * sd)\n"
   ]
  },
  {
   "cell_type": "code",
   "execution_count": 45,
   "metadata": {},
   "outputs": [
    {
     "name": "stdout",
     "output_type": "stream",
     "text": [
      "Доверительный интервал 5.116679224536988 5.745884878027114\n"
     ]
    }
   ],
   "source": [
    "alpha = 0.05\n",
    "n = len(nod.k1.values)\n",
    "\n",
    "mu = nod.k1.mean()\n",
    "sd = np.sqrt(nod.k1.var()/n)\n",
    "\n",
    "z_crit = stats.norm().ppf(1 - alpha/2)\n",
    "\n",
    "print(\"Доверительный интервал\", mu - z_crit * sd, mu + z_crit * sd)"
   ]
  },
  {
   "cell_type": "markdown",
   "metadata": {},
   "source": [
    "Разобьём наши наблюдения на две группы: Ангелы и Демоны. У Ангелов `d1fraud == 0`, у Демонов `d1fraud > 0`.\n",
    "\n",
    "__в)__ Постройте на общем фоне гистограмму распределения оценок за первую контрольную у Ангелов и Демонов. "
   ]
  },
  {
   "cell_type": "code",
   "execution_count": 47,
   "metadata": {},
   "outputs": [
    {
     "data": {
      "text/html": [
       "<div>\n",
       "<style scoped>\n",
       "    .dataframe tbody tr th:only-of-type {\n",
       "        vertical-align: middle;\n",
       "    }\n",
       "\n",
       "    .dataframe tbody tr th {\n",
       "        vertical-align: top;\n",
       "    }\n",
       "\n",
       "    .dataframe thead th {\n",
       "        text-align: right;\n",
       "    }\n",
       "</style>\n",
       "<table border=\"1\" class=\"dataframe\">\n",
       "  <thead>\n",
       "    <tr style=\"text-align: right;\">\n",
       "      <th></th>\n",
       "      <th>k1</th>\n",
       "      <th>d1fraud</th>\n",
       "    </tr>\n",
       "  </thead>\n",
       "  <tbody>\n",
       "    <tr>\n",
       "      <td>0</td>\n",
       "      <td>10.1</td>\n",
       "      <td>0.0</td>\n",
       "    </tr>\n",
       "    <tr>\n",
       "      <td>1</td>\n",
       "      <td>6.7</td>\n",
       "      <td>1.0</td>\n",
       "    </tr>\n",
       "    <tr>\n",
       "      <td>2</td>\n",
       "      <td>8.2</td>\n",
       "      <td>0.0</td>\n",
       "    </tr>\n",
       "    <tr>\n",
       "      <td>3</td>\n",
       "      <td>7.0</td>\n",
       "      <td>1.0</td>\n",
       "    </tr>\n",
       "    <tr>\n",
       "      <td>4</td>\n",
       "      <td>7.0</td>\n",
       "      <td>2.0</td>\n",
       "    </tr>\n",
       "    <tr>\n",
       "      <td>...</td>\n",
       "      <td>...</td>\n",
       "      <td>...</td>\n",
       "    </tr>\n",
       "    <tr>\n",
       "      <td>385</td>\n",
       "      <td>1.0</td>\n",
       "      <td>1.0</td>\n",
       "    </tr>\n",
       "    <tr>\n",
       "      <td>386</td>\n",
       "      <td>0.4</td>\n",
       "      <td>3.0</td>\n",
       "    </tr>\n",
       "    <tr>\n",
       "      <td>387</td>\n",
       "      <td>6.2</td>\n",
       "      <td>1.0</td>\n",
       "    </tr>\n",
       "    <tr>\n",
       "      <td>388</td>\n",
       "      <td>0.0</td>\n",
       "      <td>NaN</td>\n",
       "    </tr>\n",
       "    <tr>\n",
       "      <td>389</td>\n",
       "      <td>6.9</td>\n",
       "      <td>0.0</td>\n",
       "    </tr>\n",
       "  </tbody>\n",
       "</table>\n",
       "<p>390 rows × 2 columns</p>\n",
       "</div>"
      ],
      "text/plain": [
       "       k1  d1fraud\n",
       "0    10.1      0.0\n",
       "1     6.7      1.0\n",
       "2     8.2      0.0\n",
       "3     7.0      1.0\n",
       "4     7.0      2.0\n",
       "..    ...      ...\n",
       "385   1.0      1.0\n",
       "386   0.4      3.0\n",
       "387   6.2      1.0\n",
       "388   0.0      NaN\n",
       "389   6.9      0.0\n",
       "\n",
       "[390 rows x 2 columns]"
      ]
     },
     "execution_count": 47,
     "metadata": {},
     "output_type": "execute_result"
    }
   ],
   "source": [
    "nod[[\"k1\", \"d1fraud\"]]"
   ]
  },
  {
   "cell_type": "code",
   "execution_count": 50,
   "metadata": {},
   "outputs": [
    {
     "data": {
      "image/png": "[encoded data removed]",
      "text/plain": [
       "<Figure size 432x288 with 1 Axes>"
      ]
     },
     "metadata": {
      "needs_background": "light"
     },
     "output_type": "display_data"
    }
   ],
   "source": [
    "plt.figure()\n",
    "nod[nod.d1fraud > 0].k1.hist(alpha=0.5, density=True, label=\"demons\")\n",
    "nod[nod.d1fraud == 0].k1.hist(alpha=0.5, density=True, label=\"angels\")\n",
    "plt.legend()\n",
    "plt.show()"
   ]
  },
  {
   "cell_type": "markdown",
   "metadata": {},
   "source": [
    "__г)__ Постройте примерный $95\\%$-й доверительный интервал для разницы ожидаемого результата за первую контрольную у Ангелов и Демонов. Без предположения о равенстве дисперсий.\n",
    "\n",
    "$$\n",
    "\\left[\\bar x - \\bar y - z_{crit} \\sqrt{\\frac{\\hat\\sigma_x^2}{n_x} + \\frac{\\hat\\sigma_y^2}{n_y}} ; \\bar x - \\bar y + z_{crit} \\sqrt{\\frac{\\hat\\sigma_x^2}{n_x} + \\frac{\\hat\\sigma_y^2}{n_y}} \\right]\n",
    "$$"
   ]
  },
  {
   "cell_type": "code",
   "execution_count": 51,
   "metadata": {},
   "outputs": [],
   "source": []
  },
  {
   "cell_type": "code",
   "execution_count": 56,
   "metadata": {},
   "outputs": [
    {
     "name": "stdout",
     "output_type": "stream",
     "text": [
      "Доверительный интервал -0.532833905384929 0.8087678503390602\n"
     ]
    }
   ],
   "source": [
    "x = nod[nod.d1fraud > 0].k1\n",
    "y = nod[nod.d1fraud == 0].k1\n",
    "\n",
    "alpha = 0.05\n",
    "\n",
    "mean_diff = x.mean() - y.mean()\n",
    "sd = np.sqrt(x.var()/x.size + y.var()/y.size)\n",
    "z_crit = stats.norm().ppf(1 - alpha/2)\n",
    "\n",
    "print(\"Доверительный интервал\", mean_diff - z_crit * sd, mean_diff + z_crit * sd)"
   ]
  },
  {
   "cell_type": "markdown",
   "metadata": {},
   "source": [
    "__д)__ Как изменятся результаты, если границу между Ангелами и Демонами провести по `d1fraud < 2.5` и `d1fraud > 2.5`?"
   ]
  },
  {
   "cell_type": "code",
   "execution_count": 59,
   "metadata": {},
   "outputs": [
    {
     "name": "stdout",
     "output_type": "stream",
     "text": [
      "Доверительный интервал -0.8893352912570267 0.53970010884823\n"
     ]
    }
   ],
   "source": [
    "x = nod[nod.d1fraud > 2.5].k1\n",
    "y = nod[nod.d1fraud < 2.5].k1\n",
    "\n",
    "alpha = 0.05\n",
    "\n",
    "mean_diff = x.mean() - y.mean()\n",
    "sd = np.sqrt(x.var()/x.size + y.var()/y.size)\n",
    "z_crit = stats.norm().ppf(1 - alpha/2)\n",
    "\n",
    "print(\"Доверительный интервал\", mean_diff - z_crit * sd, mean_diff + z_crit * sd)"
   ]
  },
  {
   "cell_type": "markdown",
   "metadata": {},
   "source": [
    "Предположим, что математическое ожидание результата за контрольную зависит от уровня подготовки, а дисперсия результата — от нервов.\n",
    "\n",
    "__е)__ Проверьте гипотезу об одинаковой нервозности Ангелов и Демонов на уровне значимости $5\\%$."
   ]
  },
  {
   "cell_type": "code",
   "execution_count": 63,
   "metadata": {},
   "outputs": [
    {
     "name": "stdout",
     "output_type": "stream",
     "text": [
      "f_observ 0.8546097465268333\n",
      "Right crit 1.3923435659305086\n",
      "Left crit 0.733126241700228\n"
     ]
    }
   ],
   "source": [
    "x = nod[nod.d1fraud > 0].k1\n",
    "y = nod[nod.d1fraud == 0].k1\n",
    "\n",
    "print(\"f_observ\", x.var() / y.var())\n",
    "\n",
    "alpha = 0.05\n",
    "\n",
    "print(\"Right crit\", stats.f.ppf(1 - alpha/2, x.size - 1, y.size - 1))\n",
    "print(\"Left crit\", stats.f.ppf(alpha/2, x.size - 1, y.size - 1))\n"
   ]
  },
  {
   "cell_type": "markdown",
   "metadata": {},
   "source": [
    "__ё)__ Без буквы `ё` никуда, скажут нам [Пафнутий Чебышёв](https://ru.wikipedia.org/wiki/%D0%A7%D0%B5%D0%B1%D1%8B%D1%88%D1%91%D0%B2,_%D0%9F%D0%B0%D1%84%D0%BD%D1%83%D1%82%D0%B8%D0%B9_%D0%9B%D1%8C%D0%B2%D0%BE%D0%B2%D0%B8%D1%87) и [Лёв Толстой](https://arzamas.academy/special/ruslit/writers/tolstoy).  \n",
    "\n",
    "Нарисуйте симпатичную картинку для корреляционной матрицы по задачам первой контрольной для всех наблюдений, отдельно для Ангелов и Демонов. "
   ]
  },
  {
   "cell_type": "code",
   "execution_count": 71,
   "metadata": {},
   "outputs": [],
   "source": [
    "columns = ['k1a','k1b', 'k1c', 'k1d', 'k1e', 'k1f']\n"
   ]
  },
  {
   "cell_type": "code",
   "execution_count": 74,
   "metadata": {},
   "outputs": [
    {
     "data": {
      "text/plain": [
       "<matplotlib.axes._subplots.AxesSubplot at 0x7fd967b36438>"
      ]
     },
     "execution_count": 74,
     "metadata": {},
     "output_type": "execute_result"
    },
    {
     "data": {
      "image/png": "[encoded data removed]",
      "text/plain": [
       "<Figure size 432x288 with 2 Axes>"
      ]
     },
     "metadata": {
      "needs_background": "light"
     },
     "output_type": "display_data"
    }
   ],
   "source": [
    "sns.heatmap(nod[nod.d1fraud > 0][columns].dropna().corr(), annot=True)"
   ]
  },
  {
   "cell_type": "code",
   "execution_count": 75,
   "metadata": {},
   "outputs": [
    {
     "data": {
      "text/plain": [
       "<matplotlib.axes._subplots.AxesSubplot at 0x7fd967769240>"
      ]
     },
     "execution_count": 75,
     "metadata": {},
     "output_type": "execute_result"
    },
    {
     "data": {
      "image/png": "[encoded data removed]",
      "text/plain": [
       "<Figure size 432x288 with 2 Axes>"
      ]
     },
     "metadata": {
      "needs_background": "light"
     },
     "output_type": "display_data"
    }
   ],
   "source": [
    "sns.heatmap(nod[nod.d1fraud == 0][columns].dropna().corr(), annot=True)"
   ]
  },
  {
   "cell_type": "markdown",
   "metadata": {},
   "source": [
    "# Симуляционная задачулька 2 про повторное тестирование\n",
    "\n",
    "Сказка про то, что последовательное применение тестов без корректировки — это не очень хорошо :)\n",
    "\n",
    "Жизнь исследователя Винни-Пуха прекрасна. Наблюдений много, гипотеза о равенстве ожиданий верна, а наблюдения — нормальны. \n",
    "\n",
    "А именно, величины $X_1$, ..., $X_{n}$ независимы и нормальны $N(0;1)$, величины $Y_1$, ..., $Y_n$ независимы и нормальны $N(0;2)$. И пусть $n_x=100$ и $n_y=200$.\n",
    "\n"
   ]
  },
  {
   "cell_type": "markdown",
   "metadata": {},
   "source": [
    "Винни-Пух правда этого ничего не знает, потому что у него в голове опилки, и тестирует сначала гипотезу о равенстве дисперсий двух выборок на уровне значимости $5\\%$.\n",
    "\n",
    "__а)__ Проведите $10^6$ экспериментов, то есть $10^6$ раз попробуйте за Винни-Пуха проверить гипотезу. Хорошо бы $10^8$, но оттестируйте сначала свой код на $10^6$. \n",
    "\n",
    "Постройте гистограмму распределения тестовой статистики о равенстве дисперсий. В скольки процентах случаев гипотеза о равенстве дисперсий отвергнута? "
   ]
  },
  {
   "cell_type": "code",
   "execution_count": 78,
   "metadata": {},
   "outputs": [
    {
     "name": "stderr",
     "output_type": "stream",
     "text": [
      "/usr/local/lib/python3.6/dist-packages/scipy/stats/_continuous_distns.py:1680: RuntimeWarning: divide by zero encountered in log\n",
      "  lPx = m/2 * np.log(m) + n/2 * np.log(n) + (n/2 - 1) * np.log(x)\n"
     ]
    },
    {
     "data": {
      "image/png": "[encoded data removed]",
      "text/plain": [
       "<Figure size 432x288 with 1 Axes>"
      ]
     },
     "metadata": {
      "needs_background": "light"
     },
     "output_type": "display_data"
    }
   ],
   "source": [
    "nx = 100\n",
    "ny = 200\n",
    "\n",
    "sumulations_count = int(1e4)\n",
    "alpha = 0.05\n",
    "\n",
    "f_distibution = stats.f(nx - 1, ny - 1)\n",
    "left_border = f_distibution.ppf(alpha / 2)\n",
    "right_border = f_distibution.ppf(1 -alpha / 2)\n",
    "\n",
    "statistics = []\n",
    "some_list = []\n",
    "\n",
    "for _ in range(sumulations_count):\n",
    "    x = np.random.normal(0, 1, nx)\n",
    "    y = np.random.normal(0, np.sqrt(2), ny)\n",
    "    f_statistic = x.var() / y.var()\n",
    "    statistics.append(f_statistic)\n",
    "\n",
    "    if left_border < f_statistic < right_border:\n",
    "        some_list.append((x, y))\n",
    "        \n",
    "        \n",
    "xs = np.linspace(0, 2, 1000)\n",
    "ys = f_distibution.pdf(xs)\n",
    "\n",
    "plt.figure()\n",
    "plt.hist(statistics, bins=20, density=True)\n",
    "plt.plot(xs, ys)\n",
    "plt.show() \n",
    "\n"
   ]
  },
  {
   "cell_type": "code",
   "execution_count": 80,
   "metadata": {},
   "outputs": [
    {
     "data": {
      "text/plain": [
       "0.0223"
      ]
     },
     "execution_count": 80,
     "metadata": {},
     "output_type": "execute_result"
    }
   ],
   "source": [
    "len(some_list) / 1e4"
   ]
  },
  {
   "cell_type": "markdown",
   "metadata": {},
   "source": [
    "__б)__ Если гипотеза о равенстве дисперсий не отвергается, то Винни использует $t$-статистику для проверки гипотезы о равенстве ожиданий при равенстве дисперсий. \n",
    "\n",
    "Для тех экспериментов, в которых гипотеза о равенстве дисперсий не отверглась, проверьте гипотезу о равенстве ожиданий на уровне значимости $5\\%$. \n",
    "\n",
    "Постройте гистограмму распределения $t$-статистики. В скольки процентах случаев гипотеза о равенстве ожиданий отвергнута?"
   ]
  },
  {
   "cell_type": "code",
   "execution_count": null,
   "metadata": {},
   "outputs": [],
   "source": [
    "# решение"
   ]
  },
  {
   "cell_type": "markdown",
   "metadata": {},
   "source": [
    "__в)__ Словами объясните, почему нехорошо сначала тестировать на равенство дисперсий, а потом на равенство средних при равных дисперсиях, если на первом шаге гипотеза $H_0$ не отверглась. "
   ]
  },
  {
   "cell_type": "raw",
   "metadata": {},
   "source": [
    " # решение"
   ]
  },
  {
   "cell_type": "markdown",
   "metadata": {},
   "source": [
    "# Задачулька 3 о мимимишных мышках\n",
    "\n",
    "[https://nplus1.ru/news/2018/05/11/mice-trolley](https://nplus1.ru/news/2018/05/11/mice-trolley) \n",
    "\n",
    "Для изучения аспектов процесса принятия моральных решений психологи уже много лет используют этические дилеммы, с помощью которых оценивают действия людей в гипотетических ситуациях. Один из самых известных примеров — это [проблема вагонетки,](https://ru.wikipedia.org/wiki/Проблема_вагонетки) в которой необходимо принять решение о том, стоит ли пожертвовать одним человеком для спасения пятерых.\n",
    "\n",
    "Бельгийские психологи воплотили дилемму в реальную жизнь. Участники эксперимента должны были выбрать, ударить током пять мышей или одну мышь. Эксперимент проходил следующим образом. Участника сажали перед двумя клетками, в одной из которых сидели пять мышей, а в другой — одна. Перед клетками стоял ноутбук с $20$-секундным таймером: участникам сообщили, что по истечении этих $20$ секунд в клетку с пятью мышами пустят ток, и мыши получат не смертельный, но очень болезненный удар. Пока время идет, участник может нажать на кнопку: в этом случае ток пустят по клетке с одной мышью. В исследовании использовали живых мышей; следует, однако, уточнить, что удары тока были ненастоящими: сразу же после «удара» участников сопроводили в отдельную комнату, где разъяснили им, что мыши в полном порядке и током их не били (об этом заранее догадались только $12$ участников). В решении реальной проблемы вагонетки приняли участие $192$ человека, а еще $83$ решали такую же задачку, но гипотетическую (на бумаге). Все участники также прошли онлайн-опросы, в ходе которых учёные собрали о респондентах кучу дополнительной информации. \n",
    "\n",
    "В файле `mouse.csv` лежит информация о том, как прошёл эксперимент. Нас будут интересовать столбцы: \n",
    "\n",
    "* __STUDY:__ какую проблему вагонетки решал человек $1$ если реальную, $2$ если на бумаге\n",
    "* __AGE:__ возраст респондента \n",
    "* __GENDER:__ пол респондента\n",
    "* __DECISION:__ решение дилеммы ($1$ - жать на кнопу, $0$ - не жать) \n",
    "* __RT:__ время, которое респондент потратил, чтобы нажать на кнопку \n",
    "\n",
    "Подробное описание данных, сами данные и даже код на R, использованный при оценивании моделей, можно найти в [репозитории исследования.](https://osf.io/kvb99/) В статье авторы строили кучу логистических регрессий, чтобы очистить эффект от психологических особенностей респондентов. Этому добру вас будут учить на эконометрике, мы пойдём простым и не совсем правильным путём и будем проверять гипотезы в лоб. "
   ]
  },
  {
   "cell_type": "code",
   "execution_count": 12,
   "metadata": {},
   "outputs": [
    {
     "data": {
      "text/html": [
       "<div>\n",
       "<style scoped>\n",
       "    .dataframe tbody tr th:only-of-type {\n",
       "        vertical-align: middle;\n",
       "    }\n",
       "\n",
       "    .dataframe tbody tr th {\n",
       "        vertical-align: top;\n",
       "    }\n",
       "\n",
       "    .dataframe thead th {\n",
       "        text-align: right;\n",
       "    }\n",
       "</style>\n",
       "<table border=\"1\" class=\"dataframe\">\n",
       "  <thead>\n",
       "    <tr style=\"text-align: right;\">\n",
       "      <th></th>\n",
       "      <th>STUDY</th>\n",
       "      <th>AGE</th>\n",
       "      <th>GENDER</th>\n",
       "      <th>DECISION</th>\n",
       "      <th>DEO1</th>\n",
       "      <th>DEO2</th>\n",
       "      <th>DEO3</th>\n",
       "      <th>DEO4</th>\n",
       "      <th>DEO5</th>\n",
       "      <th>DEO6</th>\n",
       "      <th>...</th>\n",
       "      <th>AE</th>\n",
       "      <th>MOUSE1</th>\n",
       "      <th>MOUSE2</th>\n",
       "      <th>MOUSE3</th>\n",
       "      <th>MOUSE</th>\n",
       "      <th>DOUBT</th>\n",
       "      <th>OTHERCHOICE</th>\n",
       "      <th>UNCOMFORTABLE</th>\n",
       "      <th>NOSHOCK</th>\n",
       "      <th>RT</th>\n",
       "    </tr>\n",
       "  </thead>\n",
       "  <tbody>\n",
       "    <tr>\n",
       "      <th>0</th>\n",
       "      <td>1</td>\n",
       "      <td>38</td>\n",
       "      <td>1</td>\n",
       "      <td>NaN</td>\n",
       "      <td>2</td>\n",
       "      <td>2</td>\n",
       "      <td>2</td>\n",
       "      <td>1</td>\n",
       "      <td>2</td>\n",
       "      <td>2</td>\n",
       "      <td>...</td>\n",
       "      <td>5.000000</td>\n",
       "      <td>6.0</td>\n",
       "      <td>5.0</td>\n",
       "      <td>5.0</td>\n",
       "      <td>5.333333</td>\n",
       "      <td>NaN</td>\n",
       "      <td>NaN</td>\n",
       "      <td>NaN</td>\n",
       "      <td>NaN</td>\n",
       "      <td>NaN</td>\n",
       "    </tr>\n",
       "    <tr>\n",
       "      <th>1</th>\n",
       "      <td>1</td>\n",
       "      <td>22</td>\n",
       "      <td>1</td>\n",
       "      <td>NaN</td>\n",
       "      <td>1</td>\n",
       "      <td>2</td>\n",
       "      <td>2</td>\n",
       "      <td>1</td>\n",
       "      <td>2</td>\n",
       "      <td>1</td>\n",
       "      <td>...</td>\n",
       "      <td>5.727273</td>\n",
       "      <td>5.0</td>\n",
       "      <td>6.0</td>\n",
       "      <td>6.0</td>\n",
       "      <td>5.666667</td>\n",
       "      <td>NaN</td>\n",
       "      <td>NaN</td>\n",
       "      <td>NaN</td>\n",
       "      <td>NaN</td>\n",
       "      <td>NaN</td>\n",
       "    </tr>\n",
       "    <tr>\n",
       "      <th>2</th>\n",
       "      <td>1</td>\n",
       "      <td>39</td>\n",
       "      <td>1</td>\n",
       "      <td>NaN</td>\n",
       "      <td>1</td>\n",
       "      <td>1</td>\n",
       "      <td>3</td>\n",
       "      <td>5</td>\n",
       "      <td>3</td>\n",
       "      <td>1</td>\n",
       "      <td>...</td>\n",
       "      <td>5.545455</td>\n",
       "      <td>6.0</td>\n",
       "      <td>6.0</td>\n",
       "      <td>6.0</td>\n",
       "      <td>6.000000</td>\n",
       "      <td>NaN</td>\n",
       "      <td>NaN</td>\n",
       "      <td>NaN</td>\n",
       "      <td>NaN</td>\n",
       "      <td>NaN</td>\n",
       "    </tr>\n",
       "    <tr>\n",
       "      <th>3</th>\n",
       "      <td>1</td>\n",
       "      <td>21</td>\n",
       "      <td>0</td>\n",
       "      <td>1.0</td>\n",
       "      <td>2</td>\n",
       "      <td>3</td>\n",
       "      <td>3</td>\n",
       "      <td>3</td>\n",
       "      <td>3</td>\n",
       "      <td>2</td>\n",
       "      <td>...</td>\n",
       "      <td>5.136364</td>\n",
       "      <td>4.0</td>\n",
       "      <td>7.0</td>\n",
       "      <td>7.0</td>\n",
       "      <td>6.000000</td>\n",
       "      <td>2.0</td>\n",
       "      <td>0.0</td>\n",
       "      <td>6.0</td>\n",
       "      <td>80.0</td>\n",
       "      <td>9.212427</td>\n",
       "    </tr>\n",
       "    <tr>\n",
       "      <th>4</th>\n",
       "      <td>1</td>\n",
       "      <td>20</td>\n",
       "      <td>0</td>\n",
       "      <td>1.0</td>\n",
       "      <td>4</td>\n",
       "      <td>2</td>\n",
       "      <td>2</td>\n",
       "      <td>2</td>\n",
       "      <td>2</td>\n",
       "      <td>2</td>\n",
       "      <td>...</td>\n",
       "      <td>4.181818</td>\n",
       "      <td>4.0</td>\n",
       "      <td>6.0</td>\n",
       "      <td>6.0</td>\n",
       "      <td>5.333333</td>\n",
       "      <td>4.0</td>\n",
       "      <td>0.0</td>\n",
       "      <td>6.5</td>\n",
       "      <td>75.0</td>\n",
       "      <td>17.071711</td>\n",
       "    </tr>\n",
       "  </tbody>\n",
       "</table>\n",
       "<p>5 rows × 132 columns</p>\n",
       "</div>"
      ],
      "text/plain": [
       "   STUDY  AGE  GENDER  DECISION  DEO1  DEO2  DEO3  DEO4  DEO5  DEO6  ...  \\\n",
       "0      1   38       1       NaN     2     2     2     1     2     2  ...   \n",
       "1      1   22       1       NaN     1     2     2     1     2     1  ...   \n",
       "2      1   39       1       NaN     1     1     3     5     3     1  ...   \n",
       "3      1   21       0       1.0     2     3     3     3     3     2  ...   \n",
       "4      1   20       0       1.0     4     2     2     2     2     2  ...   \n",
       "\n",
       "         AE  MOUSE1  MOUSE2  MOUSE3     MOUSE  DOUBT  OTHERCHOICE  \\\n",
       "0  5.000000     6.0     5.0     5.0  5.333333    NaN          NaN   \n",
       "1  5.727273     5.0     6.0     6.0  5.666667    NaN          NaN   \n",
       "2  5.545455     6.0     6.0     6.0  6.000000    NaN          NaN   \n",
       "3  5.136364     4.0     7.0     7.0  6.000000    2.0          0.0   \n",
       "4  4.181818     4.0     6.0     6.0  5.333333    4.0          0.0   \n",
       "\n",
       "   UNCOMFORTABLE  NOSHOCK         RT  \n",
       "0            NaN      NaN        NaN  \n",
       "1            NaN      NaN        NaN  \n",
       "2            NaN      NaN        NaN  \n",
       "3            6.0     80.0   9.212427  \n",
       "4            6.5     75.0  17.071711  \n",
       "\n",
       "[5 rows x 132 columns]"
      ]
     },
     "execution_count": 12,
     "metadata": {},
     "output_type": "execute_result"
    }
   ],
   "source": [
    "df = pd.read_csv(\"mouse.csv\", sep=\"\\t\")\n",
    "df.head()"
   ]
  },
  {
   "cell_type": "markdown",
   "metadata": {},
   "source": [
    "__Отдавайте себе отчёт о предпосылках теста, который вы используете.__\n",
    "\n",
    "\n",
    "__а)__ Попытаемся ответить на тот же вопрос, что и исследователи. В какой из двух ситуаций респонденты чащи принимают решение нажать кнопку: в реальной или на бумаге?"
   ]
  },
  {
   "cell_type": "code",
   "execution_count": null,
   "metadata": {},
   "outputs": [],
   "source": [
    "# решение"
   ]
  },
  {
   "cell_type": "markdown",
   "metadata": {},
   "source": [
    "__б)__ Правда ли, что женщины и мужчины принимают решению о нажатии на кнопку одинаково часто? А на бумаге?"
   ]
  },
  {
   "cell_type": "code",
   "execution_count": null,
   "metadata": {},
   "outputs": [],
   "source": [
    "# решение"
   ]
  },
  {
   "cell_type": "markdown",
   "metadata": {},
   "source": [
    "__в)__ Правда ли, что женщины намного кровожаднее мужчин и жмут на кнопку гораздо быстрее?"
   ]
  },
  {
   "cell_type": "code",
   "execution_count": null,
   "metadata": {},
   "outputs": [],
   "source": [
    "# решение"
   ]
  },
  {
   "cell_type": "markdown",
   "metadata": {},
   "source": [
    "__в)__ Предположим, что дисперсия времени нажатия на кнопку определяется эмоциональностью и романтичностью индивида. Правда ли, что романтичность женщин равна романтичности мужчин? "
   ]
  },
  {
   "cell_type": "code",
   "execution_count": null,
   "metadata": {},
   "outputs": [],
   "source": [
    "# решение"
   ]
  },
  {
   "cell_type": "markdown",
   "metadata": {},
   "source": [
    "\n",
    "<img src=\"https://pp.userapi.com/c852220/v852220032/14dce1/r1zXBIig4B8.jpg\" height=\"300\" width=\"600\"> "
   ]
  },
  {
   "cell_type": "markdown",
   "metadata": {},
   "source": [
    " "
   ]
  }
 ],
 "metadata": {
  "kernelspec": {
   "display_name": "Python 3",
   "language": "python",
   "name": "python3"
  },
  "language_info": {
   "codemirror_mode": {
    "name": "ipython",
    "version": 3
   },
   "file_extension": ".py",
   "mimetype": "text/x-python",
   "name": "python",
   "nbconvert_exporter": "python",
   "pygments_lexer": "ipython3",
   "version": "3.6.9"
  }
 },
 "nbformat": 4,
 "nbformat_minor": 2
}
