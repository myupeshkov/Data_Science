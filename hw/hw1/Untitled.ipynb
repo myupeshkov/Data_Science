{
 "cells": [
  {
   "cell_type": "code",
   "execution_count": 1,
   "metadata": {},
   "outputs": [],
   "source": [
    "import numpy as np\n",
    "import pandas as pd\n",
    "import matplotlib.pyplot as plt\n",
    "import seaborn as sns\n",
    "import plotly\n",
    "import plotly_express as px\n",
    "import plotly.graph_objects as go\n",
    "from plotly.subplots import make_subplots\n",
    "from plotly.offline import init_notebook_mode\n",
    "import requests\n",
    "from bs4 import BeautifulSoup\n",
    "import time\n",
    "from tqdm import tqdm_notebook"
   ]
  },
  {
   "cell_type": "code",
   "execution_count": 8,
   "metadata": {},
   "outputs": [
    {
     "data": {
      "text/plain": [
       "array([[ 1,  0,  0,  0],\n",
       "       [ 1,  2,  0,  0],\n",
       "       [ 1,  4,  9,  0],\n",
       "       [ 1,  8, 27, 64]], dtype=int32)"
      ]
     },
     "execution_count": 8,
     "metadata": {},
     "output_type": "execute_result"
    }
   ],
   "source": [
    "x =np.arange(1,5)\n",
    "a = len(x)\n",
    "matr = x.reshape(-1,1) ** np.arange(a)\n",
    "np.tril(matr.T)"
   ]
  },
  {
   "cell_type": "code",
   "execution_count": 91,
   "metadata": {},
   "outputs": [],
   "source": [
    "A = np.tril(([5]*4) ** np.arange(5).reshape(-1,1), -1)"
   ]
  },
  {
   "cell_type": "code",
   "execution_count": 54,
   "metadata": {},
   "outputs": [],
   "source": [
    "B = np.tril(([4]*4) * np.arange(5).reshape(-1,1), -1).T"
   ]
  },
  {
   "cell_type": "code",
   "execution_count": 74,
   "metadata": {},
   "outputs": [],
   "source": [
    "C = np.zeros(5)"
   ]
  },
  {
   "cell_type": "code",
   "execution_count": 80,
   "metadata": {},
   "outputs": [],
   "source": [
    "c1=C.reshape(-1,1)"
   ]
  },
  {
   "cell_type": "code",
   "execution_count": 102,
   "metadata": {},
   "outputs": [],
   "source": [
    "c2 = C.reshape(1,-1)"
   ]
  },
  {
   "cell_type": "code",
   "execution_count": 104,
   "metadata": {},
   "outputs": [],
   "source": [
    "d = np.concatenate((A, c1), axis=1)"
   ]
  },
  {
   "cell_type": "code",
   "execution_count": 105,
   "metadata": {},
   "outputs": [],
   "source": [
    "e = np.concatenate((B, c2), axis=0)"
   ]
  },
  {
   "cell_type": "code",
   "execution_count": 108,
   "metadata": {},
   "outputs": [
    {
     "data": {
      "text/plain": [
       "array([[  1.,   4.,   8.,  12.,  16.],\n",
       "       [  5.,   1.,   8.,  12.,  16.],\n",
       "       [ 25.,  25.,   1.,  12.,  16.],\n",
       "       [125., 125., 125.,   1.,  16.],\n",
       "       [625., 625., 625., 625.,   1.]])"
      ]
     },
     "execution_count": 108,
     "metadata": {},
     "output_type": "execute_result"
    }
   ],
   "source": [
    "d+e+np.eye(5)"
   ]
  },
  {
   "cell_type": "code",
   "execution_count": 114,
   "metadata": {},
   "outputs": [
    {
     "data": {
      "text/plain": [
       "105.0"
      ]
     },
     "execution_count": 114,
     "metadata": {},
     "output_type": "execute_result"
    }
   ],
   "source": [
    "A = np.tril(([1]*4) ** np.arange(5).reshape(-1,1), -1)\n",
    "B = np.tril(([2]*4) * np.arange(5).reshape(-1,1), -1).T\n",
    "C = np.zeros(5)\n",
    "c1=C.reshape(-1,1)\n",
    "c2 = C.reshape(1,-1)\n",
    "d = np.concatenate((A, c1), axis=1)\n",
    "e = np.concatenate((B, c2), axis=0)\n",
    "s = d+e+np.eye(5)\n",
    "round(np.linalg.det(s))"
   ]
  },
  {
   "cell_type": "code",
   "execution_count": 119,
   "metadata": {},
   "outputs": [
    {
     "name": "stdout",
     "output_type": "stream",
     "text": [
      "2\n",
      "3\n",
      "1 2 3 4 5 6\n"
     ]
    },
    {
     "data": {
      "text/plain": [
       "array([1, 2, 3, 4, 5, 6])"
      ]
     },
     "execution_count": 119,
     "metadata": {},
     "output_type": "execute_result"
    }
   ],
   "source": [
    "n = int(input())\n",
    "m = int(input())\n",
    "chisla = np.array(input().split(' '))\n",
    "chisla = np.array(chisla, int)\n",
    "chisla"
   ]
  },
  {
   "cell_type": "code",
   "execution_count": 175,
   "metadata": {},
   "outputs": [
    {
     "name": "stdout",
     "output_type": "stream",
     "text": [
      "True\n",
      "True\n",
      "False\n",
      "True\n"
     ]
    }
   ],
   "source": [
    "data = pd.read_csv('test_data.csv', sep='\\t')\n",
    "d1 = data[data['in_hse_memes_group']]\n",
    "d2 = data[data['in_hse_memes_group'] != 1]\n",
    "\n",
    "a = d1[d1['male_dummy']==1]['wall_repost_cnt'].mean() > d2[d2['male_dummy']==0]['wall_repost_cnt'].mean() #1\n",
    "\n",
    "b = data[data['city'] != 'Москва']['wall_like_mean'].mean() < 80 #2\n",
    "\n",
    "d3 = data['political_cat'].dropna()\n",
    "count = d3.value_counts().loc['либертарианские']\n",
    "c = count / len(d3) >= 0.5 #3\n",
    "\n",
    "d = data[data['country'] =='Узбекистан']['subscriptions_cnt'].mean() > data[data['country'] =='Россия']['subscriptions_cnt'].mean()\n",
    "print(a,b,c,d, sep='\\n')"
   ]
  },
  {
   "cell_type": "code",
   "execution_count": null,
   "metadata": {},
   "outputs": [],
   "source": []
  },
  {
   "cell_type": "code",
   "execution_count": null,
   "metadata": {},
   "outputs": [],
   "source": []
  },
  {
   "cell_type": "code",
   "execution_count": 183,
   "metadata": {},
   "outputs": [
    {
     "name": "stdout",
     "output_type": "stream",
     "text": [
      "2\n",
      "3\n",
      "1 2\n"
     ]
    },
    {
     "ename": "ValueError",
     "evalue": "invalid literal for int() with base 10: '1 2'",
     "output_type": "error",
     "traceback": [
      "\u001b[1;31m---------------------------------------------------------------------------\u001b[0m",
      "\u001b[1;31mValueError\u001b[0m                                Traceback (most recent call last)",
      "\u001b[1;32m<ipython-input-183-bc246ce4046b>\u001b[0m in \u001b[0;36m<module>\u001b[1;34m\u001b[0m\n\u001b[0;32m      2\u001b[0m \u001b[0mm\u001b[0m \u001b[1;33m=\u001b[0m \u001b[0mint\u001b[0m\u001b[1;33m(\u001b[0m\u001b[0minput\u001b[0m\u001b[1;33m(\u001b[0m\u001b[1;33m)\u001b[0m\u001b[1;33m)\u001b[0m\u001b[1;33m\u001b[0m\u001b[1;33m\u001b[0m\u001b[0m\n\u001b[0;32m      3\u001b[0m \u001b[0mchisla\u001b[0m \u001b[1;33m=\u001b[0m \u001b[0mnp\u001b[0m\u001b[1;33m.\u001b[0m\u001b[0marray\u001b[0m\u001b[1;33m(\u001b[0m\u001b[0minput\u001b[0m\u001b[1;33m(\u001b[0m\u001b[1;33m)\u001b[0m\u001b[1;33m.\u001b[0m\u001b[0msplit\u001b[0m\u001b[1;33m(\u001b[0m\u001b[1;34m'\\n'\u001b[0m\u001b[1;33m)\u001b[0m\u001b[1;33m)\u001b[0m\u001b[1;33m\u001b[0m\u001b[1;33m\u001b[0m\u001b[0m\n\u001b[1;32m----> 4\u001b[1;33m \u001b[0mchisla\u001b[0m \u001b[1;33m=\u001b[0m \u001b[0mnp\u001b[0m\u001b[1;33m.\u001b[0m\u001b[0marray\u001b[0m\u001b[1;33m(\u001b[0m\u001b[0mchisla\u001b[0m\u001b[1;33m,\u001b[0m \u001b[0mint\u001b[0m\u001b[1;33m)\u001b[0m\u001b[1;33m\u001b[0m\u001b[1;33m\u001b[0m\u001b[0m\n\u001b[0m\u001b[0;32m      5\u001b[0m \u001b[0mk\u001b[0m \u001b[1;33m=\u001b[0m \u001b[0mchisla\u001b[0m\u001b[1;33m.\u001b[0m\u001b[0mreshape\u001b[0m\u001b[1;33m(\u001b[0m\u001b[1;33m[\u001b[0m\u001b[0mn\u001b[0m\u001b[1;33m,\u001b[0m \u001b[0mm\u001b[0m\u001b[1;33m]\u001b[0m\u001b[1;33m)\u001b[0m\u001b[1;33m\u001b[0m\u001b[1;33m\u001b[0m\u001b[0m\n\u001b[0;32m      6\u001b[0m \u001b[0md\u001b[0m \u001b[1;33m=\u001b[0m \u001b[0mnp\u001b[0m\u001b[1;33m.\u001b[0m\u001b[0mdiag\u001b[0m\u001b[1;33m(\u001b[0m\u001b[0mk\u001b[0m\u001b[1;33m)\u001b[0m\u001b[1;33m\u001b[0m\u001b[1;33m\u001b[0m\u001b[0m\n",
      "\u001b[1;31mValueError\u001b[0m: invalid literal for int() with base 10: '1 2'"
     ]
    }
   ],
   "source": [
    "n = int(input())\n",
    "m = int(input())\n",
    "chisla = np.array(input().split('\\n'))\n",
    "chisla = np.array(chisla, int)\n",
    "k = chisla.reshape((n, m))\n",
    "d = np.diag(k)\n",
    "g = d[d != 0]\n",
    "if g:\n",
    "    print(np.prod(g))\n",
    "else:\n",
    "    print(-1)"
   ]
  },
  {
   "cell_type": "code",
   "execution_count": 196,
   "metadata": {},
   "outputs": [
    {
     "name": "stdout",
     "output_type": "stream",
     "text": [
      "4 3\n",
      "1 0 1\n",
      "2 0 2\n",
      "3 0 3\n",
      "4 4 4\n",
      "3\n"
     ]
    }
   ],
   "source": [
    "n, m = map(int, input().split())\n",
    "matrix = []\n",
    "for i in range(n):\n",
    "    row = list(map(int, input().split()))\n",
    "    matrix.append(row)\n",
    "m = np.diag(matrix)\n",
    "c = np.count_nonzero(m)\n",
    "if c == 0:\n",
    "    print(-1)\n",
    "else:\n",
    "    matr = m[m!=0]\n",
    "    print(np.prod(matr))"
   ]
  },
  {
   "cell_type": "code",
   "execution_count": 273,
   "metadata": {},
   "outputs": [],
   "source": [
    "sorev = np.random.exponential(scale = 5, size=(100000,5))"
   ]
  },
  {
   "cell_type": "code",
   "execution_count": 289,
   "metadata": {},
   "outputs": [
    {
     "data": {
      "text/plain": [
       "0.841"
      ]
     },
     "execution_count": 289,
     "metadata": {},
     "output_type": "execute_result"
    }
   ],
   "source": [
    "X = np.min(sorev, axis=1)\n",
    "Y = np.max(sorev, axis=1)\n",
    "Z = Y - X\n",
    "p1 = Z>5\n",
    "round(p1.mean(), 3)"
   ]
  },
  {
   "cell_type": "code",
   "execution_count": 275,
   "metadata": {},
   "outputs": [
    {
     "data": {
      "text/plain": [
       "0.8840648593312981"
      ]
     },
     "execution_count": 275,
     "metadata": {},
     "output_type": "execute_result"
    }
   ],
   "source": [
    "sorev1 = sorev[sorev[:, 0] >3]\n",
    "X1 = np.min(sorev1, axis=1)\n",
    "Y1 = np.max(sorev1, axis=1)\n",
    "Z1 = Y1 - X1\n",
    "p2 = Z1>5\n",
    "p2.mean()"
   ]
  },
  {
   "cell_type": "code",
   "execution_count": 286,
   "metadata": {},
   "outputs": [
    {
     "data": {
      "text/plain": [
       "1.0"
      ]
     },
     "execution_count": 286,
     "metadata": {},
     "output_type": "execute_result"
    }
   ],
   "source": [
    "sorev1 = sorev[sorev[:, 0] >3]\n",
    "X1 = np.min(sorev1, axis=1)\n",
    "Y1 = np.max(sorev1, axis=1)\n",
    "Z1 = Y1 - X1\n",
    "p2 = Z1>5\n",
    "round(p2.mean())"
   ]
  },
  {
   "cell_type": "code",
   "execution_count": 284,
   "metadata": {},
   "outputs": [
    {
     "data": {
      "text/plain": [
       "2.1604150126884907e-05"
      ]
     },
     "execution_count": 284,
     "metadata": {},
     "output_type": "execute_result"
    }
   ],
   "source": [
    "sorev = np.random.exponential(scale = 5, size=(1000000,5))\n",
    "X1 = np.min(sorev, axis=1)\n",
    "Y1 = np.max(sorev, axis=1)\n",
    "T = Y1[Y1 < 10]\n",
    "Z = Y-X\n",
    "(Z/len(T)).mean()"
   ]
  },
  {
   "cell_type": "code",
   "execution_count": 301,
   "metadata": {},
   "outputs": [
    {
     "data": {
      "text/plain": [
       "array([1.81011575, 2.33347028, 2.2240798 , ..., 8.19944775, 8.74539396,\n",
       "       6.837785  ])"
      ]
     },
     "execution_count": 301,
     "metadata": {},
     "output_type": "execute_result"
    }
   ],
   "source": [
    "res = np.concatenate((X, Y[Y < 10]))\n",
    "res"
   ]
  },
  {
   "cell_type": "code",
   "execution_count": 305,
   "metadata": {},
   "outputs": [
    {
     "name": "stdout",
     "output_type": "stream",
     "text": [
      "0.84\n",
      "0.89\n",
      "2.88\n"
     ]
    }
   ],
   "source": [
    "sorev = np.random.exponential(scale = 5, size=(10000,5))\n",
    "X1 = np.min(sorev, axis=1)\n",
    "Y1 = np.max(sorev, axis=1)\n",
    "Z1 = Y1 - X1\n",
    "p1 = Z1>5\n",
    "sorev1 = sorev[sorev[:, 0] >3]\n",
    "X2 = np.min(sorev1, axis=1)\n",
    "Y2 = np.max(sorev1, axis=1)\n",
    "Z2 = Y2 - X2\n",
    "p2 = Z2>5\n",
    "res = np.concatenate((X1, Y1[Y1 < 10]))\n",
    "print(round(p1.mean(), 2), round(p2.mean(), 2), round(res.mean(), 2), sep='\\n')"
   ]
  },
  {
   "cell_type": "code",
   "execution_count": 309,
   "metadata": {},
   "outputs": [
    {
     "data": {
      "text/plain": [
       "array([[2.82121696, 2.20628305, 3.85797982, 0.1063728 , 0.98922751],\n",
       "       [1.13103344, 7.77648425, 9.22663276, 2.85049416, 8.749719  ],\n",
       "       [9.02502376, 5.69915083, 6.39965075, 4.73428617, 1.43211646],\n",
       "       ...,\n",
       "       [1.06841109, 0.23163795, 0.20843257, 6.46868747, 2.99936626],\n",
       "       [2.2052219 , 3.77761001, 0.49566038, 0.76040231, 2.51840901],\n",
       "       [4.71377444, 5.7637752 , 2.25045461, 4.69346547, 0.42054693]])"
      ]
     },
     "execution_count": 309,
     "metadata": {},
     "output_type": "execute_result"
    }
   ],
   "source": [
    "sorev[Y1 < 10]"
   ]
  },
  {
   "cell_type": "code",
   "execution_count": 310,
   "metadata": {},
   "outputs": [
    {
     "data": {
      "text/plain": [
       "array([False,  True,  True, ..., False, False,  True])"
      ]
     },
     "execution_count": 310,
     "metadata": {},
     "output_type": "execute_result"
    }
   ],
   "source": [
    "Y1 < 10"
   ]
  },
  {
   "cell_type": "code",
   "execution_count": 311,
   "metadata": {},
   "outputs": [
    {
     "data": {
      "text/plain": [
       "array([2.82121696, 2.20628305, 3.85797982, 0.1063728 , 0.98922751])"
      ]
     },
     "execution_count": 311,
     "metadata": {},
     "output_type": "execute_result"
    }
   ],
   "source": [
    "sorev[1]"
   ]
  },
  {
   "cell_type": "code",
   "execution_count": 319,
   "metadata": {},
   "outputs": [
    {
     "name": "stdout",
     "output_type": "stream",
     "text": [
      "0.84\n",
      "0.88\n",
      "2.88\n"
     ]
    }
   ],
   "source": [
    "sorev = np.random.exponential(scale = 5, size=(10000,5))\n",
    "X1 = np.min(sorev, axis=1)\n",
    "Y1 = np.max(sorev, axis=1)\n",
    "Z1 = Y1 - X1\n",
    "p1 = Z1>5\n",
    "sorev1 = sorev[sorev[:, 0] >3]\n",
    "X2 = np.min(sorev1, axis=1)\n",
    "Y2 = np.max(sorev1, axis=1)\n",
    "Z2 = Y2 - X2\n",
    "p2 = Z2>5\n",
    "res = np.concatenate((X1, Y1[Y1 < 10]))\n",
    "print(round(p1.mean(), 2), round(p2.mean(), 2), round(res.mean(), 2), sep='\\n')"
   ]
  },
  {
   "cell_type": "code",
   "execution_count": null,
   "metadata": {},
   "outputs": [],
   "source": []
  }
 ],
 "metadata": {
  "kernelspec": {
   "display_name": "Python 3",
   "language": "python",
   "name": "python3"
  },
  "language_info": {
   "codemirror_mode": {
    "name": "ipython",
    "version": 3
   },
   "file_extension": ".py",
   "mimetype": "text/x-python",
   "name": "python",
   "nbconvert_exporter": "python",
   "pygments_lexer": "ipython3",
   "version": "3.7.3"
  }
 },
 "nbformat": 4,
 "nbformat_minor": 2
}
