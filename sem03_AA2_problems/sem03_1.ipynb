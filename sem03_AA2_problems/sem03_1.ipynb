{
 "cells": [
  {
   "cell_type": "markdown",
   "metadata": {},
   "source": [
    "## \"И какой же русский не любит быстрой езды?\"\n",
    "*Гоголь  Н.В., \"Мертвые души\"*\n",
    " \n",
    "<br>\n",
    "\n",
    "Никаких дополнительных билбиотек, чистый питон.\n",
    "\n",
    "Учимся писать быстрые, оптимальные решения и оценивать сложность.\n",
    "\n"
   ]
  },
  {
   "cell_type": "code",
   "execution_count": 1,
   "metadata": {},
   "outputs": [],
   "source": [
    "import sem3_tests"
   ]
  },
  {
   "cell_type": "markdown",
   "metadata": {},
   "source": [
    "### Problem 0. Some words about data structures and complexity\n",
    "\n",
    "https://habr.com/ru/post/188010/\n",
    "\n"
   ]
  },
  {
   "cell_type": "code",
   "execution_count": 2,
   "metadata": {},
   "outputs": [
    {
     "name": "stdout",
     "output_type": "stream",
     "text": [
      "Execution time 15.589738130569458\n",
      "Execution time 0.02830195426940918\n"
     ]
    }
   ],
   "source": [
    "import random\n",
    "import time\n",
    "\n",
    "\n",
    "def test_time(my_structure, iterations):\n",
    "    start_time = time.time()\n",
    "    for _ in range(iterations):\n",
    "        random.randint(0, pow(2, 31)) in my_structure\n",
    "    print(\"Execution time {}\".format(time.time() - start_time))\n",
    "\n",
    "\n",
    "STRUCTURE_SIZE = 100000\n",
    "ITERATIONS = 10000\n",
    "\n",
    "my_list = list(range(STRUCTURE_SIZE))\n",
    "my_set = set(my_list)\n",
    "\n",
    "# Feel the difference\n",
    "test_time(my_list, ITERATIONS)\n",
    "test_time(my_set, ITERATIONS)\n",
    "    "
   ]
  },
  {
   "cell_type": "markdown",
   "metadata": {},
   "source": [
    "Just compare\n",
    "http://fooplot.com/#W3sidHlwZSI6MCwiZXEiOiJ4IiwiY29sb3IiOiIjMDAwMDAwIn0seyJ0eXBlIjowLCJlcSI6ImxvZyh4KSIsImNvbG9yIjoiIzAwMDAwMCJ9LHsidHlwZSI6MCwiZXEiOiJ4XjIiLCJjb2xvciI6IiMwMDAwMDAifSx7InR5cGUiOjAsImVxIjoieCpsb2coeCkiLCJjb2xvciI6IiMwMDAwMDAifSx7InR5cGUiOjEwMDAsIndpbmRvdyI6WyItMTUzLjgzODA2NjE4OTM1NzU2IiwiMTQxLjc0NzcxMTg4Njg0MzQzIiwiLTg0LjIwNDU1OTk5MTM2MjkzIiwiOTcuNjk0MzgwMzYzMjIyMyJdLCJzaXplIjpbOTUwLDUwMF19XQ--"
   ]
  },
  {
   "cell_type": "markdown",
   "metadata": {},
   "source": [
    "### Problem 1. Two Sum Jewels and Stones\n",
    "\n",
    "https://leetcode.com/problems/jewels-and-stones/\n",
    "\n",
    "You're given strings J representing the types of stones that are jewels, and S representing the stones you have.  Each character in S is a type of stone you have.  You want to know how many of the stones you have are also jewels.\n",
    "\n",
    "The letters in J are guaranteed distinct, and all characters in J and S are letters. Letters are case sensitive, so \"a\" is considered a different type of stone from \"A\"."
   ]
  },
  {
   "cell_type": "code",
   "execution_count": 8,
   "metadata": {},
   "outputs": [
    {
     "name": "stdout",
     "output_type": "stream",
     "text": [
      "OK!\n"
     ]
    }
   ],
   "source": [
    "# сложность по времени O(nm) (n длина S, m длина J)\n",
    "# сложность по памяти O(1)\n",
    "def num_jewels_in_stones(J, S):\n",
    "    cnt= 0\n",
    "    for item in S:\n",
    "        for j in range(len(J)):\n",
    "            if item == J[j]:\n",
    "                cnt += 1\n",
    "    return cnt\n",
    "\n",
    "sem3_tests.test_num_jewels_in_stones(num_jewels_in_stones)"
   ]
  },
  {
   "cell_type": "code",
   "execution_count": 12,
   "metadata": {},
   "outputs": [],
   "source": [
    "# сложность по времени O(m + n) ~ O(m)\n",
    "# сложность по памяти O(n)\n",
    "def num_jewels_in_stones(J, S):\n",
    "    cnt= 0\n",
    "    J = set(J)\n",
    "    for item in S:\n",
    "        if item in J:\n",
    "            cnt += 1\n",
    "    return cnt"
   ]
  },
  {
   "cell_type": "code",
   "execution_count": 13,
   "metadata": {},
   "outputs": [
    {
     "data": {
      "text/plain": [
       "6"
      ]
     },
     "execution_count": 13,
     "metadata": {},
     "output_type": "execute_result"
    }
   ],
   "source": [
    "J = 'ABb'\n",
    "S = 'bbaBAbcccdA'\n",
    "num_jewels_in_stones(J, S)"
   ]
  },
  {
   "cell_type": "markdown",
   "metadata": {},
   "source": [
    "### Problem 2. Simple moving average\n",
    "\n",
    "https://en.wikipedia.org/wiki/Moving_average"
   ]
  },
  {
   "cell_type": "code",
   "execution_count": null,
   "metadata": {},
   "outputs": [],
   "source": [
    "def moving_average(array, window):\n",
    "    # YOUR CODE HERE\n",
    "    return\n",
    "\n",
    "sem3_tests.test_simple_moving_avarage(moving_average)\n",
    "sem3_tests.visual_test_simple_moving_avarage(moving_average, 3)"
   ]
  },
  {
   "cell_type": "markdown",
   "metadata": {},
   "source": [
    "### Problem 3. Two Sum\n",
    "Given an array of integers, return indices of the two numbers such that they add up to a specific target.\n",
    "\n",
    "You may assume that each input would have exactly one solution, and you may not use the same element twice.\n"
   ]
  },
  {
   "cell_type": "code",
   "execution_count": 15,
   "metadata": {},
   "outputs": [
    {
     "data": {
      "text/plain": [
       "[(0, 2), (3, 4)]"
      ]
     },
     "execution_count": 15,
     "metadata": {},
     "output_type": "execute_result"
    }
   ],
   "source": [
    "# сложность O(n*(n-1)/2) = O(n^2)\n",
    "def two_sum(nums, target):\n",
    "    answer = [ ]\n",
    "    \n",
    "    n = len(nums)\n",
    "    for i in range(n):\n",
    "        for j in range(i + 1, n):\n",
    "            if nums[i] + nums[j] == target:\n",
    "                answer.append((i,j))\n",
    "    \n",
    "    return answer\n",
    "\n",
    "nums = [1,5,4,3,2]\n",
    "target = 5\n",
    "two_sum(nums, target)"
   ]
  },
  {
   "cell_type": "code",
   "execution_count": 23,
   "metadata": {},
   "outputs": [
    {
     "data": {
      "text/plain": [
       "[(0, 3), (1, 2)]"
      ]
     },
     "execution_count": 23,
     "metadata": {},
     "output_type": "execute_result"
    }
   ],
   "source": [
    "# сложность O(n logn + n) = O(n logn)\n",
    "def two_sum(nums, target):\n",
    "    nums.sort() # O(n log(n))\n",
    "    answer = [ ]\n",
    "    \n",
    "    i = 0\n",
    "    j = len(nums) - 1\n",
    "    \n",
    "    # O(n)\n",
    "    while i <= j:\n",
    "        if nums[i] + nums[j] > target:\n",
    "            j -= 1\n",
    "        elif nums[i] + nums[j] < target:\n",
    "            i += 1\n",
    "        else:\n",
    "            answer.append((i,j))\n",
    "            i += 1\n",
    "            j -= 1\n",
    "            \n",
    "    return answer\n",
    "\n",
    "nums = [1,5,4,3,2]\n",
    "target = 5\n",
    "two_sum(nums, target)"
   ]
  },
  {
   "cell_type": "code",
   "execution_count": 32,
   "metadata": {},
   "outputs": [
    {
     "data": {
      "text/plain": [
       "[(0, 2), (1, 3), (2, 0), (3, 1)]"
      ]
     },
     "execution_count": 32,
     "metadata": {},
     "output_type": "execute_result"
    }
   ],
   "source": [
    "# сложность O(n) по времени\n",
    "# сложность O(n) по памяти\n",
    "def two_sum(nums, target):\n",
    "    # nums_set = set(nums)\n",
    "    nums_dict = dict(zip(nums, range(len(nums))))\n",
    "    answer = [ ]\n",
    "    for item in nums:\n",
    "        if target - item in nums_dict:\n",
    "            answer.append((nums_dict[item], nums_dict[target-item]))\n",
    "    return answer\n",
    "\n",
    "nums = [1,2,4,3,5]\n",
    "target = 5\n",
    "two_sum(nums, target)"
   ]
  },
  {
   "cell_type": "code",
   "execution_count": 29,
   "metadata": {},
   "outputs": [
    {
     "data": {
      "text/plain": [
       "[(1, 0), (5, 1), (4, 2), (3, 3), (2, 4)]"
      ]
     },
     "execution_count": 29,
     "metadata": {},
     "output_type": "execute_result"
    }
   ],
   "source": [
    "list(zip(nums, range(len(nums))))"
   ]
  },
  {
   "cell_type": "code",
   "execution_count": 30,
   "metadata": {},
   "outputs": [
    {
     "data": {
      "text/plain": [
       "{1: 0, 5: 1, 4: 2, 3: 3, 2: 4}"
      ]
     },
     "execution_count": 30,
     "metadata": {},
     "output_type": "execute_result"
    }
   ],
   "source": [
    "dict(zip(nums, range(len(nums))))"
   ]
  },
  {
   "cell_type": "code",
   "execution_count": null,
   "metadata": {},
   "outputs": [],
   "source": [
    "sem3_tests.test_two_sum(two_sum)"
   ]
  },
  {
   "cell_type": "markdown",
   "metadata": {},
   "source": [
    "### Problem 4. Remove Repeated Spaces \n",
    "\n",
    "Given a string. You need to remove all repeated spaces without using extra memory (with O(C) memory)\n",
    "\n",
    "\"where &nbsp;  is &nbsp; &nbsp; &nbsp; &nbsp; my &nbsp; &nbsp; &nbsp; cookie\" -> \"where is my cookie\"\n"
   ]
  },
  {
   "cell_type": "code",
   "execution_count": null,
   "metadata": {},
   "outputs": [],
   "source": [
    "def remove_repeated_spaces(string_list):\n",
    "    # YOUR CODE HERE\n",
    "    return\n",
    "\n",
    "sem3_tests.test_remove_repeated_spaces(remove_repeated_spaces)"
   ]
  },
  {
   "cell_type": "markdown",
   "metadata": {},
   "source": [
    "### Problem 5. Longest substring without repeating characters\n",
    "\n",
    "Given a string, find the length of the longest substring without repeating characters."
   ]
  },
  {
   "cell_type": "code",
   "execution_count": null,
   "metadata": {},
   "outputs": [],
   "source": [
    "def length_of_longest_substring(string):\n",
    "    # YOUR CODE HERE\n",
    "    return\n",
    "\n",
    "sem3_tests.test_longest_substring(length_of_longest_substring)"
   ]
  },
  {
   "cell_type": "code",
   "execution_count": null,
   "metadata": {},
   "outputs": [],
   "source": []
  }
 ],
 "metadata": {
  "kernelspec": {
   "display_name": "Python 3",
   "language": "python",
   "name": "python3"
  },
  "language_info": {
   "codemirror_mode": {
    "name": "ipython",
    "version": 3
   },
   "file_extension": ".py",
   "mimetype": "text/x-python",
   "name": "python",
   "nbconvert_exporter": "python",
   "pygments_lexer": "ipython3",
   "version": "3.7.2"
  }
 },
 "nbformat": 4,
 "nbformat_minor": 2
}
