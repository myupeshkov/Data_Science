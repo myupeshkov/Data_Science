{
 "cells": [
  {
   "cell_type": "markdown",
   "metadata": {},
   "source": [
    "## \"И какой же русский не любит быстрой езды?\"\n",
    "*Гоголь  Н.В., \"Мертвые души\"*\n",
    " \n",
    "<br>\n",
    "\n",
    "Никаких дополнительных билбиотек, чистый питон.\n",
    "\n",
    "Учимся писать быстрые, оптимальные решения и оценивать сложность.\n",
    "\n"
   ]
  },
  {
   "cell_type": "code",
   "execution_count": null,
   "metadata": {},
   "outputs": [],
   "source": [
    "import sem3_tests"
   ]
  },
  {
   "cell_type": "markdown",
   "metadata": {},
   "source": [
    "### Problem 0. Some words about data structures and complexity\n",
    "\n",
    "https://habr.com/ru/post/188010/\n",
    "\n"
   ]
  },
  {
   "cell_type": "code",
   "execution_count": null,
   "metadata": {},
   "outputs": [],
   "source": [
    "import random\n",
    "import time\n",
    "\n",
    "\n",
    "def test_time(my_structure, iterations):\n",
    "    start_time = time.time()\n",
    "    for _ in range(iterations):\n",
    "        random.randint(0, pow(2, 31)) in my_structure\n",
    "    print(\"Execution time {}\".format(time.time() - start_time))\n",
    "\n",
    "\n",
    "STRUCTURE_SIZE = 100000\n",
    "ITERATIONS = 10000\n",
    "\n",
    "my_list = list(range(STRUCTURE_SIZE))\n",
    "my_set = set(my_list)\n",
    "\n",
    "# Feel the difference\n",
    "test_time(my_list, ITERATIONS)\n",
    "test_time(my_set, ITERATIONS)\n",
    "    "
   ]
  },
  {
   "cell_type": "markdown",
   "metadata": {},
   "source": [
    "Just compare\n",
    "http://fooplot.com/#W3sidHlwZSI6MCwiZXEiOiJ4IiwiY29sb3IiOiIjMDAwMDAwIn0seyJ0eXBlIjowLCJlcSI6ImxvZyh4KSIsImNvbG9yIjoiIzAwMDAwMCJ9LHsidHlwZSI6MCwiZXEiOiJ4XjIiLCJjb2xvciI6IiMwMDAwMDAifSx7InR5cGUiOjAsImVxIjoieCpsb2coeCkiLCJjb2xvciI6IiMwMDAwMDAifSx7InR5cGUiOjEwMDAsIndpbmRvdyI6WyItMTUzLjgzODA2NjE4OTM1NzU2IiwiMTQxLjc0NzcxMTg4Njg0MzQzIiwiLTg0LjIwNDU1OTk5MTM2MjkzIiwiOTcuNjk0MzgwMzYzMjIyMyJdLCJzaXplIjpbOTUwLDUwMF19XQ--"
   ]
  },
  {
   "cell_type": "markdown",
   "metadata": {},
   "source": [
    "### Problem 1. Two Sum Jewels and Stones\n",
    "\n",
    "https://leetcode.com/problems/jewels-and-stones/\n",
    "\n",
    "You're given strings J representing the types of stones that are jewels, and S representing the stones you have.  Each character in S is a type of stone you have.  You want to know how many of the stones you have are also jewels.\n",
    "\n",
    "The letters in J are guaranteed distinct, and all characters in J and S are letters. Letters are case sensitive, so \"a\" is considered a different type of stone from \"A\"."
   ]
  },
  {
   "cell_type": "code",
   "execution_count": null,
   "metadata": {},
   "outputs": [],
   "source": [
    "def num_jewels_in_stones(J, S):\n",
    "    # YOUR CODE HERE\n",
    "    return\n",
    "\n",
    "sem3_tests.test_num_jewels_in_stones(num_jewels_in_stones)"
   ]
  },
  {
   "cell_type": "markdown",
   "metadata": {},
   "source": [
    "### Problem 2. Simple moving average\n",
    "\n",
    "https://en.wikipedia.org/wiki/Moving_average"
   ]
  },
  {
   "cell_type": "code",
   "execution_count": null,
   "metadata": {},
   "outputs": [],
   "source": [
    "def moving_average(array, window):\n",
    "    # YOUR CODE HERE\n",
    "    return\n",
    "\n",
    "sem3_tests.test_simple_moving_avarage(moving_average)\n",
    "sem3_tests.visual_test_simple_moving_avarage(moving_average, 3)"
   ]
  },
  {
   "cell_type": "markdown",
   "metadata": {},
   "source": [
    "### Problem 3. Two Sum\n",
    "Given an array of integers, return indices of the two numbers such that they add up to a specific target.\n",
    "\n",
    "You may assume that each input would have exactly one solution, and you may not use the same element twice.\n"
   ]
  },
  {
   "cell_type": "code",
   "execution_count": null,
   "metadata": {},
   "outputs": [],
   "source": [
    "def two_sum(nums, target):\n",
    "    # YOUR CODE HERE\n",
    "    return\n",
    "\n",
    "sem3_tests.test_two_sum(two_sum)\n"
   ]
  },
  {
   "cell_type": "markdown",
   "metadata": {},
   "source": [
    "### Problem 4. Remove Repeated Spaces \n",
    "\n",
    "Given a string. You need to remove all repeated spaces without using extra memory (with O(C) memory)\n",
    "\n",
    "\"where &nbsp;  is &nbsp; &nbsp; &nbsp; &nbsp; my &nbsp; &nbsp; &nbsp; cookie\" -> \"where is my cookie\"\n"
   ]
  },
  {
   "cell_type": "code",
   "execution_count": null,
   "metadata": {},
   "outputs": [],
   "source": [
    "def remove_repeated_spaces(string_list):\n",
    "    # YOUR CODE HERE\n",
    "    return\n",
    "\n",
    "sem3_tests.test_remove_repeated_spaces(remove_repeated_spaces)"
   ]
  },
  {
   "cell_type": "markdown",
   "metadata": {},
   "source": [
    "### Problem 5. Longest substring without repeating characters\n",
    "\n",
    "Given a string, find the length of the longest substring without repeating characters."
   ]
  },
  {
   "cell_type": "code",
   "execution_count": null,
   "metadata": {},
   "outputs": [],
   "source": [
    "def length_of_longest_substring(string):\n",
    "    # YOUR CODE HERE\n",
    "    return\n",
    "\n",
    "sem3_tests.test_longest_substring(length_of_longest_substring)"
   ]
  },
  {
   "cell_type": "code",
   "execution_count": null,
   "metadata": {},
   "outputs": [],
   "source": []
  }
 ],
 "metadata": {
  "kernelspec": {
   "display_name": "Python 3",
   "language": "python",
   "name": "python3"
  },
  "language_info": {
   "codemirror_mode": {
    "name": "ipython",
    "version": 3
   },
   "file_extension": ".py",
   "mimetype": "text/x-python",
   "name": "python",
   "nbconvert_exporter": "python",
   "pygments_lexer": "ipython3",
   "version": "3.6.8"
  }
 },
 "nbformat": 4,
 "nbformat_minor": 2
}
